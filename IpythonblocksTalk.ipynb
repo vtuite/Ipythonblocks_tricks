{
 "cells": [
  {
   "cell_type": "markdown",
   "metadata": {},
   "source": [
    "# **Ipython blocks in Jupyter Notebook**\n",
    "# Vicky Tuite   \n",
    "# @vixter55              \n",
    "# vixter@gmail.com\n",
    "# https://github.com/vtuite/Ipythonblocks_tricks\n",
    "\n",
    "\n",
    "\n",
    "# Pyninsula Meetup March 27, 2018"
   ]
  },
  {
   "cell_type": "code",
   "execution_count": 23,
   "metadata": {
    "collapsed": false
   },
   "outputs": [
    {
     "name": "stdout",
     "output_type": "stream",
     "text": [
      "Requirement already satisfied: ipythonblocks in /Users/vixter/anaconda/envs/myPy3PyQt4env/lib/python3.5/site-packages\n",
      "Requirement already satisfied: requests>=1.0 in /Users/vixter/anaconda/envs/myPy3PyQt4env/lib/python3.5/site-packages (from ipythonblocks)\n",
      "\u001b[33mYou are using pip version 9.0.1, however version 9.0.3 is available.\n",
      "You should consider upgrading via the 'pip install --upgrade pip' command.\u001b[0m\n"
     ]
    }
   ],
   "source": [
    "import sys,os\n",
    "!{sys.executable} -m pip install ipythonblocks\n"
   ]
  },
  {
   "cell_type": "markdown",
   "metadata": {},
   "source": [
    "# import sys,os\n",
    "# !{sys.executable} -m pip install ipythonblocks\n",
    "\n"
   ]
  },
  {
   "cell_type": "code",
   "execution_count": 24,
   "metadata": {
    "collapsed": false
   },
   "outputs": [
    {
     "data": {
      "text/html": [
       "<style type=\"text/css\">table.blockgrid {border: none;} .blockgrid tr {border: none;} .blockgrid td {padding: 0px;} #blocksbb8ddc50-4777-41f8-876d-724b273d33bb td {border: 1px solid white;}</style><table id=\"blocksbb8ddc50-4777-41f8-876d-724b273d33bb\" class=\"blockgrid\"><tbody><tr><td title=\"Index: [0, 0]&#10;Color: (41, 28, 123)\" style=\"width: 20px; height: 20px;background-color: rgb(41, 28, 123);\"></td><td title=\"Index: [0, 1]&#10;Color: (41, 28, 123)\" style=\"width: 20px; height: 20px;background-color: rgb(41, 28, 123);\"></td><td title=\"Index: [0, 2]&#10;Color: (41, 28, 123)\" style=\"width: 20px; height: 20px;background-color: rgb(41, 28, 123);\"></td><td title=\"Index: [0, 3]&#10;Color: (41, 255, 123)\" style=\"width: 20px; height: 20px;background-color: rgb(41, 255, 123);\"></td><td title=\"Index: [0, 4]&#10;Color: (41, 28, 123)\" style=\"width: 20px; height: 20px;background-color: rgb(41, 28, 123);\"></td><td title=\"Index: [0, 5]&#10;Color: (41, 28, 123)\" style=\"width: 20px; height: 20px;background-color: rgb(41, 28, 123);\"></td><td title=\"Index: [0, 6]&#10;Color: (41, 28, 123)\" style=\"width: 20px; height: 20px;background-color: rgb(41, 28, 123);\"></td><td title=\"Index: [0, 7]&#10;Color: (41, 28, 123)\" style=\"width: 20px; height: 20px;background-color: rgb(41, 28, 123);\"></td><td title=\"Index: [0, 8]&#10;Color: (41, 28, 123)\" style=\"width: 20px; height: 20px;background-color: rgb(41, 28, 123);\"></td><td title=\"Index: [0, 9]&#10;Color: (41, 28, 123)\" style=\"width: 20px; height: 20px;background-color: rgb(41, 28, 123);\"></td><td title=\"Index: [0, 10]&#10;Color: (41, 28, 123)\" style=\"width: 20px; height: 20px;background-color: rgb(41, 28, 123);\"></td><td title=\"Index: [0, 11]&#10;Color: (41, 28, 123)\" style=\"width: 20px; height: 20px;background-color: rgb(41, 28, 123);\"></td><td title=\"Index: [0, 12]&#10;Color: (41, 28, 123)\" style=\"width: 20px; height: 20px;background-color: rgb(41, 28, 123);\"></td><td title=\"Index: [0, 13]&#10;Color: (41, 28, 123)\" style=\"width: 20px; height: 20px;background-color: rgb(41, 28, 123);\"></td><td title=\"Index: [0, 14]&#10;Color: (41, 28, 123)\" style=\"width: 20px; height: 20px;background-color: rgb(41, 28, 123);\"></td></tr><tr><td title=\"Index: [1, 0]&#10;Color: (41, 28, 123)\" style=\"width: 20px; height: 20px;background-color: rgb(41, 28, 123);\"></td><td title=\"Index: [1, 1]&#10;Color: (41, 28, 123)\" style=\"width: 20px; height: 20px;background-color: rgb(41, 28, 123);\"></td><td title=\"Index: [1, 2]&#10;Color: (41, 28, 123)\" style=\"width: 20px; height: 20px;background-color: rgb(41, 28, 123);\"></td><td title=\"Index: [1, 3]&#10;Color: (41, 255, 123)\" style=\"width: 20px; height: 20px;background-color: rgb(41, 255, 123);\"></td><td title=\"Index: [1, 4]&#10;Color: (41, 28, 123)\" style=\"width: 20px; height: 20px;background-color: rgb(41, 28, 123);\"></td><td title=\"Index: [1, 5]&#10;Color: (41, 28, 123)\" style=\"width: 20px; height: 20px;background-color: rgb(41, 28, 123);\"></td><td title=\"Index: [1, 6]&#10;Color: (41, 28, 123)\" style=\"width: 20px; height: 20px;background-color: rgb(41, 28, 123);\"></td><td title=\"Index: [1, 7]&#10;Color: (41, 28, 123)\" style=\"width: 20px; height: 20px;background-color: rgb(41, 28, 123);\"></td><td title=\"Index: [1, 8]&#10;Color: (41, 28, 123)\" style=\"width: 20px; height: 20px;background-color: rgb(41, 28, 123);\"></td><td title=\"Index: [1, 9]&#10;Color: (41, 28, 123)\" style=\"width: 20px; height: 20px;background-color: rgb(41, 28, 123);\"></td><td title=\"Index: [1, 10]&#10;Color: (41, 28, 123)\" style=\"width: 20px; height: 20px;background-color: rgb(41, 28, 123);\"></td><td title=\"Index: [1, 11]&#10;Color: (41, 28, 123)\" style=\"width: 20px; height: 20px;background-color: rgb(41, 28, 123);\"></td><td title=\"Index: [1, 12]&#10;Color: (41, 28, 123)\" style=\"width: 20px; height: 20px;background-color: rgb(41, 28, 123);\"></td><td title=\"Index: [1, 13]&#10;Color: (41, 28, 123)\" style=\"width: 20px; height: 20px;background-color: rgb(41, 28, 123);\"></td><td title=\"Index: [1, 14]&#10;Color: (41, 28, 123)\" style=\"width: 20px; height: 20px;background-color: rgb(41, 28, 123);\"></td></tr><tr><td title=\"Index: [2, 0]&#10;Color: (41, 28, 123)\" style=\"width: 20px; height: 20px;background-color: rgb(41, 28, 123);\"></td><td title=\"Index: [2, 1]&#10;Color: (41, 28, 123)\" style=\"width: 20px; height: 20px;background-color: rgb(41, 28, 123);\"></td><td title=\"Index: [2, 2]&#10;Color: (41, 28, 123)\" style=\"width: 20px; height: 20px;background-color: rgb(41, 28, 123);\"></td><td title=\"Index: [2, 3]&#10;Color: (41, 255, 123)\" style=\"width: 20px; height: 20px;background-color: rgb(41, 255, 123);\"></td><td title=\"Index: [2, 4]&#10;Color: (41, 28, 123)\" style=\"width: 20px; height: 20px;background-color: rgb(41, 28, 123);\"></td><td title=\"Index: [2, 5]&#10;Color: (41, 28, 123)\" style=\"width: 20px; height: 20px;background-color: rgb(41, 28, 123);\"></td><td title=\"Index: [2, 6]&#10;Color: (41, 28, 123)\" style=\"width: 20px; height: 20px;background-color: rgb(41, 28, 123);\"></td><td title=\"Index: [2, 7]&#10;Color: (41, 28, 123)\" style=\"width: 20px; height: 20px;background-color: rgb(41, 28, 123);\"></td><td title=\"Index: [2, 8]&#10;Color: (41, 28, 123)\" style=\"width: 20px; height: 20px;background-color: rgb(41, 28, 123);\"></td><td title=\"Index: [2, 9]&#10;Color: (41, 28, 123)\" style=\"width: 20px; height: 20px;background-color: rgb(41, 28, 123);\"></td><td title=\"Index: [2, 10]&#10;Color: (41, 28, 123)\" style=\"width: 20px; height: 20px;background-color: rgb(41, 28, 123);\"></td><td title=\"Index: [2, 11]&#10;Color: (41, 28, 123)\" style=\"width: 20px; height: 20px;background-color: rgb(41, 28, 123);\"></td><td title=\"Index: [2, 12]&#10;Color: (41, 28, 123)\" style=\"width: 20px; height: 20px;background-color: rgb(41, 28, 123);\"></td><td title=\"Index: [2, 13]&#10;Color: (41, 28, 123)\" style=\"width: 20px; height: 20px;background-color: rgb(41, 28, 123);\"></td><td title=\"Index: [2, 14]&#10;Color: (41, 28, 123)\" style=\"width: 20px; height: 20px;background-color: rgb(41, 28, 123);\"></td></tr><tr><td title=\"Index: [3, 0]&#10;Color: (41, 28, 123)\" style=\"width: 20px; height: 20px;background-color: rgb(41, 28, 123);\"></td><td title=\"Index: [3, 1]&#10;Color: (41, 28, 123)\" style=\"width: 20px; height: 20px;background-color: rgb(41, 28, 123);\"></td><td title=\"Index: [3, 2]&#10;Color: (41, 28, 123)\" style=\"width: 20px; height: 20px;background-color: rgb(41, 28, 123);\"></td><td title=\"Index: [3, 3]&#10;Color: (41, 255, 123)\" style=\"width: 20px; height: 20px;background-color: rgb(41, 255, 123);\"></td><td title=\"Index: [3, 4]&#10;Color: (41, 28, 123)\" style=\"width: 20px; height: 20px;background-color: rgb(41, 28, 123);\"></td><td title=\"Index: [3, 5]&#10;Color: (41, 28, 123)\" style=\"width: 20px; height: 20px;background-color: rgb(41, 28, 123);\"></td><td title=\"Index: [3, 6]&#10;Color: (41, 28, 123)\" style=\"width: 20px; height: 20px;background-color: rgb(41, 28, 123);\"></td><td title=\"Index: [3, 7]&#10;Color: (41, 28, 123)\" style=\"width: 20px; height: 20px;background-color: rgb(41, 28, 123);\"></td><td title=\"Index: [3, 8]&#10;Color: (41, 28, 123)\" style=\"width: 20px; height: 20px;background-color: rgb(41, 28, 123);\"></td><td title=\"Index: [3, 9]&#10;Color: (41, 28, 123)\" style=\"width: 20px; height: 20px;background-color: rgb(41, 28, 123);\"></td><td title=\"Index: [3, 10]&#10;Color: (41, 28, 123)\" style=\"width: 20px; height: 20px;background-color: rgb(41, 28, 123);\"></td><td title=\"Index: [3, 11]&#10;Color: (41, 28, 123)\" style=\"width: 20px; height: 20px;background-color: rgb(41, 28, 123);\"></td><td title=\"Index: [3, 12]&#10;Color: (41, 28, 123)\" style=\"width: 20px; height: 20px;background-color: rgb(41, 28, 123);\"></td><td title=\"Index: [3, 13]&#10;Color: (41, 28, 123)\" style=\"width: 20px; height: 20px;background-color: rgb(41, 28, 123);\"></td><td title=\"Index: [3, 14]&#10;Color: (41, 28, 123)\" style=\"width: 20px; height: 20px;background-color: rgb(41, 28, 123);\"></td></tr><tr><td title=\"Index: [4, 0]&#10;Color: (41, 28, 123)\" style=\"width: 20px; height: 20px;background-color: rgb(41, 28, 123);\"></td><td title=\"Index: [4, 1]&#10;Color: (41, 28, 123)\" style=\"width: 20px; height: 20px;background-color: rgb(41, 28, 123);\"></td><td title=\"Index: [4, 2]&#10;Color: (41, 28, 123)\" style=\"width: 20px; height: 20px;background-color: rgb(41, 28, 123);\"></td><td title=\"Index: [4, 3]&#10;Color: (41, 255, 123)\" style=\"width: 20px; height: 20px;background-color: rgb(41, 255, 123);\"></td><td title=\"Index: [4, 4]&#10;Color: (41, 28, 123)\" style=\"width: 20px; height: 20px;background-color: rgb(41, 28, 123);\"></td><td title=\"Index: [4, 5]&#10;Color: (41, 28, 123)\" style=\"width: 20px; height: 20px;background-color: rgb(41, 28, 123);\"></td><td title=\"Index: [4, 6]&#10;Color: (41, 28, 123)\" style=\"width: 20px; height: 20px;background-color: rgb(41, 28, 123);\"></td><td title=\"Index: [4, 7]&#10;Color: (41, 28, 123)\" style=\"width: 20px; height: 20px;background-color: rgb(41, 28, 123);\"></td><td title=\"Index: [4, 8]&#10;Color: (41, 28, 123)\" style=\"width: 20px; height: 20px;background-color: rgb(41, 28, 123);\"></td><td title=\"Index: [4, 9]&#10;Color: (41, 28, 123)\" style=\"width: 20px; height: 20px;background-color: rgb(41, 28, 123);\"></td><td title=\"Index: [4, 10]&#10;Color: (41, 28, 123)\" style=\"width: 20px; height: 20px;background-color: rgb(41, 28, 123);\"></td><td title=\"Index: [4, 11]&#10;Color: (41, 28, 123)\" style=\"width: 20px; height: 20px;background-color: rgb(41, 28, 123);\"></td><td title=\"Index: [4, 12]&#10;Color: (41, 28, 123)\" style=\"width: 20px; height: 20px;background-color: rgb(41, 28, 123);\"></td><td title=\"Index: [4, 13]&#10;Color: (41, 28, 123)\" style=\"width: 20px; height: 20px;background-color: rgb(41, 28, 123);\"></td><td title=\"Index: [4, 14]&#10;Color: (41, 28, 123)\" style=\"width: 20px; height: 20px;background-color: rgb(41, 28, 123);\"></td></tr><tr><td title=\"Index: [5, 0]&#10;Color: (41, 28, 123)\" style=\"width: 20px; height: 20px;background-color: rgb(41, 28, 123);\"></td><td title=\"Index: [5, 1]&#10;Color: (41, 28, 123)\" style=\"width: 20px; height: 20px;background-color: rgb(41, 28, 123);\"></td><td title=\"Index: [5, 2]&#10;Color: (41, 28, 123)\" style=\"width: 20px; height: 20px;background-color: rgb(41, 28, 123);\"></td><td title=\"Index: [5, 3]&#10;Color: (41, 255, 123)\" style=\"width: 20px; height: 20px;background-color: rgb(41, 255, 123);\"></td><td title=\"Index: [5, 4]&#10;Color: (41, 28, 123)\" style=\"width: 20px; height: 20px;background-color: rgb(41, 28, 123);\"></td><td title=\"Index: [5, 5]&#10;Color: (41, 28, 123)\" style=\"width: 20px; height: 20px;background-color: rgb(41, 28, 123);\"></td><td title=\"Index: [5, 6]&#10;Color: (41, 28, 123)\" style=\"width: 20px; height: 20px;background-color: rgb(41, 28, 123);\"></td><td title=\"Index: [5, 7]&#10;Color: (41, 28, 123)\" style=\"width: 20px; height: 20px;background-color: rgb(41, 28, 123);\"></td><td title=\"Index: [5, 8]&#10;Color: (41, 28, 123)\" style=\"width: 20px; height: 20px;background-color: rgb(41, 28, 123);\"></td><td title=\"Index: [5, 9]&#10;Color: (41, 28, 123)\" style=\"width: 20px; height: 20px;background-color: rgb(41, 28, 123);\"></td><td title=\"Index: [5, 10]&#10;Color: (41, 28, 123)\" style=\"width: 20px; height: 20px;background-color: rgb(41, 28, 123);\"></td><td title=\"Index: [5, 11]&#10;Color: (41, 28, 123)\" style=\"width: 20px; height: 20px;background-color: rgb(41, 28, 123);\"></td><td title=\"Index: [5, 12]&#10;Color: (41, 28, 123)\" style=\"width: 20px; height: 20px;background-color: rgb(41, 28, 123);\"></td><td title=\"Index: [5, 13]&#10;Color: (41, 28, 123)\" style=\"width: 20px; height: 20px;background-color: rgb(41, 28, 123);\"></td><td title=\"Index: [5, 14]&#10;Color: (41, 28, 123)\" style=\"width: 20px; height: 20px;background-color: rgb(41, 28, 123);\"></td></tr><tr><td title=\"Index: [6, 0]&#10;Color: (41, 28, 123)\" style=\"width: 20px; height: 20px;background-color: rgb(41, 28, 123);\"></td><td title=\"Index: [6, 1]&#10;Color: (41, 28, 123)\" style=\"width: 20px; height: 20px;background-color: rgb(41, 28, 123);\"></td><td title=\"Index: [6, 2]&#10;Color: (41, 28, 123)\" style=\"width: 20px; height: 20px;background-color: rgb(41, 28, 123);\"></td><td title=\"Index: [6, 3]&#10;Color: (41, 255, 123)\" style=\"width: 20px; height: 20px;background-color: rgb(41, 255, 123);\"></td><td title=\"Index: [6, 4]&#10;Color: (41, 28, 123)\" style=\"width: 20px; height: 20px;background-color: rgb(41, 28, 123);\"></td><td title=\"Index: [6, 5]&#10;Color: (41, 28, 123)\" style=\"width: 20px; height: 20px;background-color: rgb(41, 28, 123);\"></td><td title=\"Index: [6, 6]&#10;Color: (41, 28, 123)\" style=\"width: 20px; height: 20px;background-color: rgb(41, 28, 123);\"></td><td title=\"Index: [6, 7]&#10;Color: (41, 28, 123)\" style=\"width: 20px; height: 20px;background-color: rgb(41, 28, 123);\"></td><td title=\"Index: [6, 8]&#10;Color: (41, 28, 123)\" style=\"width: 20px; height: 20px;background-color: rgb(41, 28, 123);\"></td><td title=\"Index: [6, 9]&#10;Color: (41, 28, 123)\" style=\"width: 20px; height: 20px;background-color: rgb(41, 28, 123);\"></td><td title=\"Index: [6, 10]&#10;Color: (41, 28, 123)\" style=\"width: 20px; height: 20px;background-color: rgb(41, 28, 123);\"></td><td title=\"Index: [6, 11]&#10;Color: (41, 28, 123)\" style=\"width: 20px; height: 20px;background-color: rgb(41, 28, 123);\"></td><td title=\"Index: [6, 12]&#10;Color: (41, 28, 123)\" style=\"width: 20px; height: 20px;background-color: rgb(41, 28, 123);\"></td><td title=\"Index: [6, 13]&#10;Color: (41, 28, 123)\" style=\"width: 20px; height: 20px;background-color: rgb(41, 28, 123);\"></td><td title=\"Index: [6, 14]&#10;Color: (41, 28, 123)\" style=\"width: 20px; height: 20px;background-color: rgb(41, 28, 123);\"></td></tr><tr><td title=\"Index: [7, 0]&#10;Color: (41, 28, 123)\" style=\"width: 20px; height: 20px;background-color: rgb(41, 28, 123);\"></td><td title=\"Index: [7, 1]&#10;Color: (41, 28, 123)\" style=\"width: 20px; height: 20px;background-color: rgb(41, 28, 123);\"></td><td title=\"Index: [7, 2]&#10;Color: (41, 28, 123)\" style=\"width: 20px; height: 20px;background-color: rgb(41, 28, 123);\"></td><td title=\"Index: [7, 3]&#10;Color: (41, 255, 123)\" style=\"width: 20px; height: 20px;background-color: rgb(41, 255, 123);\"></td><td title=\"Index: [7, 4]&#10;Color: (41, 28, 123)\" style=\"width: 20px; height: 20px;background-color: rgb(41, 28, 123);\"></td><td title=\"Index: [7, 5]&#10;Color: (41, 28, 123)\" style=\"width: 20px; height: 20px;background-color: rgb(41, 28, 123);\"></td><td title=\"Index: [7, 6]&#10;Color: (41, 28, 123)\" style=\"width: 20px; height: 20px;background-color: rgb(41, 28, 123);\"></td><td title=\"Index: [7, 7]&#10;Color: (41, 28, 123)\" style=\"width: 20px; height: 20px;background-color: rgb(41, 28, 123);\"></td><td title=\"Index: [7, 8]&#10;Color: (41, 28, 123)\" style=\"width: 20px; height: 20px;background-color: rgb(41, 28, 123);\"></td><td title=\"Index: [7, 9]&#10;Color: (41, 28, 123)\" style=\"width: 20px; height: 20px;background-color: rgb(41, 28, 123);\"></td><td title=\"Index: [7, 10]&#10;Color: (41, 28, 123)\" style=\"width: 20px; height: 20px;background-color: rgb(41, 28, 123);\"></td><td title=\"Index: [7, 11]&#10;Color: (41, 28, 123)\" style=\"width: 20px; height: 20px;background-color: rgb(41, 28, 123);\"></td><td title=\"Index: [7, 12]&#10;Color: (41, 28, 123)\" style=\"width: 20px; height: 20px;background-color: rgb(41, 28, 123);\"></td><td title=\"Index: [7, 13]&#10;Color: (41, 28, 123)\" style=\"width: 20px; height: 20px;background-color: rgb(41, 28, 123);\"></td><td title=\"Index: [7, 14]&#10;Color: (41, 28, 123)\" style=\"width: 20px; height: 20px;background-color: rgb(41, 28, 123);\"></td></tr></tbody></table>"
      ],
      "text/plain": [
       "<IPython.core.display.HTML object>"
      ]
     },
     "metadata": {},
     "output_type": "display_data"
    }
   ],
   "source": [
    "# Simple Grid and Block Example\n",
    "from ipythonblocks import BlockGrid\n",
    "\n",
    "grid = BlockGrid(15, 8, fill=(41, 28, 123))\n",
    "\n",
    "for block in grid:\n",
    "    if (block.col == 3):\n",
    "        block.green = 255\n",
    "    \n",
    "grid.show()\n"
   ]
  },
  {
   "cell_type": "markdown",
   "metadata": {},
   "source": [
    "# Jupyter Notebook retains variables between cells"
   ]
  },
  {
   "cell_type": "code",
   "execution_count": 25,
   "metadata": {
    "collapsed": false
   },
   "outputs": [
    {
     "data": {
      "text/html": [
       "<style type=\"text/css\">table.blockgrid {border: none;} .blockgrid tr {border: none;} .blockgrid td {padding: 0px;} #blocksd8a824a6-9342-4c7f-8d64-0ca72579f4c9 td {border: 1px solid white;}</style><table id=\"blocksd8a824a6-9342-4c7f-8d64-0ca72579f4c9\" class=\"blockgrid\"><tbody><tr><td title=\"Index: [0, 0]&#10;Color: (200, 28, 123)\" style=\"width: 20px; height: 20px;background-color: rgb(200, 28, 123);\"></td><td title=\"Index: [0, 1]&#10;Color: (41, 28, 123)\" style=\"width: 20px; height: 20px;background-color: rgb(41, 28, 123);\"></td><td title=\"Index: [0, 2]&#10;Color: (41, 28, 123)\" style=\"width: 20px; height: 20px;background-color: rgb(41, 28, 123);\"></td><td title=\"Index: [0, 3]&#10;Color: (41, 255, 123)\" style=\"width: 20px; height: 20px;background-color: rgb(41, 255, 123);\"></td><td title=\"Index: [0, 4]&#10;Color: (41, 28, 123)\" style=\"width: 20px; height: 20px;background-color: rgb(41, 28, 123);\"></td><td title=\"Index: [0, 5]&#10;Color: (41, 28, 123)\" style=\"width: 20px; height: 20px;background-color: rgb(41, 28, 123);\"></td><td title=\"Index: [0, 6]&#10;Color: (41, 28, 123)\" style=\"width: 20px; height: 20px;background-color: rgb(41, 28, 123);\"></td><td title=\"Index: [0, 7]&#10;Color: (200, 28, 123)\" style=\"width: 20px; height: 20px;background-color: rgb(200, 28, 123);\"></td><td title=\"Index: [0, 8]&#10;Color: (41, 28, 123)\" style=\"width: 20px; height: 20px;background-color: rgb(41, 28, 123);\"></td><td title=\"Index: [0, 9]&#10;Color: (41, 28, 123)\" style=\"width: 20px; height: 20px;background-color: rgb(41, 28, 123);\"></td><td title=\"Index: [0, 10]&#10;Color: (41, 28, 123)\" style=\"width: 20px; height: 20px;background-color: rgb(41, 28, 123);\"></td><td title=\"Index: [0, 11]&#10;Color: (41, 28, 123)\" style=\"width: 20px; height: 20px;background-color: rgb(41, 28, 123);\"></td><td title=\"Index: [0, 12]&#10;Color: (41, 28, 123)\" style=\"width: 20px; height: 20px;background-color: rgb(41, 28, 123);\"></td><td title=\"Index: [0, 13]&#10;Color: (41, 28, 123)\" style=\"width: 20px; height: 20px;background-color: rgb(41, 28, 123);\"></td><td title=\"Index: [0, 14]&#10;Color: (200, 28, 123)\" style=\"width: 20px; height: 20px;background-color: rgb(200, 28, 123);\"></td></tr><tr><td title=\"Index: [1, 0]&#10;Color: (41, 28, 123)\" style=\"width: 20px; height: 20px;background-color: rgb(41, 28, 123);\"></td><td title=\"Index: [1, 1]&#10;Color: (41, 28, 123)\" style=\"width: 20px; height: 20px;background-color: rgb(41, 28, 123);\"></td><td title=\"Index: [1, 2]&#10;Color: (41, 28, 123)\" style=\"width: 20px; height: 20px;background-color: rgb(41, 28, 123);\"></td><td title=\"Index: [1, 3]&#10;Color: (41, 255, 123)\" style=\"width: 20px; height: 20px;background-color: rgb(41, 255, 123);\"></td><td title=\"Index: [1, 4]&#10;Color: (41, 28, 123)\" style=\"width: 20px; height: 20px;background-color: rgb(41, 28, 123);\"></td><td title=\"Index: [1, 5]&#10;Color: (41, 28, 123)\" style=\"width: 20px; height: 20px;background-color: rgb(41, 28, 123);\"></td><td title=\"Index: [1, 6]&#10;Color: (200, 28, 123)\" style=\"width: 20px; height: 20px;background-color: rgb(200, 28, 123);\"></td><td title=\"Index: [1, 7]&#10;Color: (41, 28, 123)\" style=\"width: 20px; height: 20px;background-color: rgb(41, 28, 123);\"></td><td title=\"Index: [1, 8]&#10;Color: (41, 28, 123)\" style=\"width: 20px; height: 20px;background-color: rgb(41, 28, 123);\"></td><td title=\"Index: [1, 9]&#10;Color: (41, 28, 123)\" style=\"width: 20px; height: 20px;background-color: rgb(41, 28, 123);\"></td><td title=\"Index: [1, 10]&#10;Color: (41, 28, 123)\" style=\"width: 20px; height: 20px;background-color: rgb(41, 28, 123);\"></td><td title=\"Index: [1, 11]&#10;Color: (41, 28, 123)\" style=\"width: 20px; height: 20px;background-color: rgb(41, 28, 123);\"></td><td title=\"Index: [1, 12]&#10;Color: (41, 28, 123)\" style=\"width: 20px; height: 20px;background-color: rgb(41, 28, 123);\"></td><td title=\"Index: [1, 13]&#10;Color: (200, 28, 123)\" style=\"width: 20px; height: 20px;background-color: rgb(200, 28, 123);\"></td><td title=\"Index: [1, 14]&#10;Color: (41, 28, 123)\" style=\"width: 20px; height: 20px;background-color: rgb(41, 28, 123);\"></td></tr><tr><td title=\"Index: [2, 0]&#10;Color: (41, 28, 123)\" style=\"width: 20px; height: 20px;background-color: rgb(41, 28, 123);\"></td><td title=\"Index: [2, 1]&#10;Color: (41, 28, 123)\" style=\"width: 20px; height: 20px;background-color: rgb(41, 28, 123);\"></td><td title=\"Index: [2, 2]&#10;Color: (41, 28, 123)\" style=\"width: 20px; height: 20px;background-color: rgb(41, 28, 123);\"></td><td title=\"Index: [2, 3]&#10;Color: (41, 255, 123)\" style=\"width: 20px; height: 20px;background-color: rgb(41, 255, 123);\"></td><td title=\"Index: [2, 4]&#10;Color: (41, 28, 123)\" style=\"width: 20px; height: 20px;background-color: rgb(41, 28, 123);\"></td><td title=\"Index: [2, 5]&#10;Color: (200, 28, 123)\" style=\"width: 20px; height: 20px;background-color: rgb(200, 28, 123);\"></td><td title=\"Index: [2, 6]&#10;Color: (41, 28, 123)\" style=\"width: 20px; height: 20px;background-color: rgb(41, 28, 123);\"></td><td title=\"Index: [2, 7]&#10;Color: (41, 28, 123)\" style=\"width: 20px; height: 20px;background-color: rgb(41, 28, 123);\"></td><td title=\"Index: [2, 8]&#10;Color: (41, 28, 123)\" style=\"width: 20px; height: 20px;background-color: rgb(41, 28, 123);\"></td><td title=\"Index: [2, 9]&#10;Color: (41, 28, 123)\" style=\"width: 20px; height: 20px;background-color: rgb(41, 28, 123);\"></td><td title=\"Index: [2, 10]&#10;Color: (41, 28, 123)\" style=\"width: 20px; height: 20px;background-color: rgb(41, 28, 123);\"></td><td title=\"Index: [2, 11]&#10;Color: (41, 28, 123)\" style=\"width: 20px; height: 20px;background-color: rgb(41, 28, 123);\"></td><td title=\"Index: [2, 12]&#10;Color: (200, 28, 123)\" style=\"width: 20px; height: 20px;background-color: rgb(200, 28, 123);\"></td><td title=\"Index: [2, 13]&#10;Color: (41, 28, 123)\" style=\"width: 20px; height: 20px;background-color: rgb(41, 28, 123);\"></td><td title=\"Index: [2, 14]&#10;Color: (41, 28, 123)\" style=\"width: 20px; height: 20px;background-color: rgb(41, 28, 123);\"></td></tr><tr><td title=\"Index: [3, 0]&#10;Color: (41, 28, 123)\" style=\"width: 20px; height: 20px;background-color: rgb(41, 28, 123);\"></td><td title=\"Index: [3, 1]&#10;Color: (41, 28, 123)\" style=\"width: 20px; height: 20px;background-color: rgb(41, 28, 123);\"></td><td title=\"Index: [3, 2]&#10;Color: (41, 28, 123)\" style=\"width: 20px; height: 20px;background-color: rgb(41, 28, 123);\"></td><td title=\"Index: [3, 3]&#10;Color: (41, 255, 123)\" style=\"width: 20px; height: 20px;background-color: rgb(41, 255, 123);\"></td><td title=\"Index: [3, 4]&#10;Color: (200, 28, 123)\" style=\"width: 20px; height: 20px;background-color: rgb(200, 28, 123);\"></td><td title=\"Index: [3, 5]&#10;Color: (41, 28, 123)\" style=\"width: 20px; height: 20px;background-color: rgb(41, 28, 123);\"></td><td title=\"Index: [3, 6]&#10;Color: (41, 28, 123)\" style=\"width: 20px; height: 20px;background-color: rgb(41, 28, 123);\"></td><td title=\"Index: [3, 7]&#10;Color: (41, 28, 123)\" style=\"width: 20px; height: 20px;background-color: rgb(41, 28, 123);\"></td><td title=\"Index: [3, 8]&#10;Color: (41, 28, 123)\" style=\"width: 20px; height: 20px;background-color: rgb(41, 28, 123);\"></td><td title=\"Index: [3, 9]&#10;Color: (41, 28, 123)\" style=\"width: 20px; height: 20px;background-color: rgb(41, 28, 123);\"></td><td title=\"Index: [3, 10]&#10;Color: (41, 28, 123)\" style=\"width: 20px; height: 20px;background-color: rgb(41, 28, 123);\"></td><td title=\"Index: [3, 11]&#10;Color: (200, 28, 123)\" style=\"width: 20px; height: 20px;background-color: rgb(200, 28, 123);\"></td><td title=\"Index: [3, 12]&#10;Color: (41, 28, 123)\" style=\"width: 20px; height: 20px;background-color: rgb(41, 28, 123);\"></td><td title=\"Index: [3, 13]&#10;Color: (41, 28, 123)\" style=\"width: 20px; height: 20px;background-color: rgb(41, 28, 123);\"></td><td title=\"Index: [3, 14]&#10;Color: (41, 28, 123)\" style=\"width: 20px; height: 20px;background-color: rgb(41, 28, 123);\"></td></tr><tr><td title=\"Index: [4, 0]&#10;Color: (41, 28, 123)\" style=\"width: 20px; height: 20px;background-color: rgb(41, 28, 123);\"></td><td title=\"Index: [4, 1]&#10;Color: (41, 28, 123)\" style=\"width: 20px; height: 20px;background-color: rgb(41, 28, 123);\"></td><td title=\"Index: [4, 2]&#10;Color: (41, 28, 123)\" style=\"width: 20px; height: 20px;background-color: rgb(41, 28, 123);\"></td><td title=\"Index: [4, 3]&#10;Color: (200, 255, 123)\" style=\"width: 20px; height: 20px;background-color: rgb(200, 255, 123);\"></td><td title=\"Index: [4, 4]&#10;Color: (41, 28, 123)\" style=\"width: 20px; height: 20px;background-color: rgb(41, 28, 123);\"></td><td title=\"Index: [4, 5]&#10;Color: (41, 28, 123)\" style=\"width: 20px; height: 20px;background-color: rgb(41, 28, 123);\"></td><td title=\"Index: [4, 6]&#10;Color: (41, 28, 123)\" style=\"width: 20px; height: 20px;background-color: rgb(41, 28, 123);\"></td><td title=\"Index: [4, 7]&#10;Color: (41, 28, 123)\" style=\"width: 20px; height: 20px;background-color: rgb(41, 28, 123);\"></td><td title=\"Index: [4, 8]&#10;Color: (41, 28, 123)\" style=\"width: 20px; height: 20px;background-color: rgb(41, 28, 123);\"></td><td title=\"Index: [4, 9]&#10;Color: (41, 28, 123)\" style=\"width: 20px; height: 20px;background-color: rgb(41, 28, 123);\"></td><td title=\"Index: [4, 10]&#10;Color: (200, 28, 123)\" style=\"width: 20px; height: 20px;background-color: rgb(200, 28, 123);\"></td><td title=\"Index: [4, 11]&#10;Color: (41, 28, 123)\" style=\"width: 20px; height: 20px;background-color: rgb(41, 28, 123);\"></td><td title=\"Index: [4, 12]&#10;Color: (41, 28, 123)\" style=\"width: 20px; height: 20px;background-color: rgb(41, 28, 123);\"></td><td title=\"Index: [4, 13]&#10;Color: (41, 28, 123)\" style=\"width: 20px; height: 20px;background-color: rgb(41, 28, 123);\"></td><td title=\"Index: [4, 14]&#10;Color: (41, 28, 123)\" style=\"width: 20px; height: 20px;background-color: rgb(41, 28, 123);\"></td></tr><tr><td title=\"Index: [5, 0]&#10;Color: (41, 28, 123)\" style=\"width: 20px; height: 20px;background-color: rgb(41, 28, 123);\"></td><td title=\"Index: [5, 1]&#10;Color: (41, 28, 123)\" style=\"width: 20px; height: 20px;background-color: rgb(41, 28, 123);\"></td><td title=\"Index: [5, 2]&#10;Color: (200, 28, 123)\" style=\"width: 20px; height: 20px;background-color: rgb(200, 28, 123);\"></td><td title=\"Index: [5, 3]&#10;Color: (41, 255, 123)\" style=\"width: 20px; height: 20px;background-color: rgb(41, 255, 123);\"></td><td title=\"Index: [5, 4]&#10;Color: (41, 28, 123)\" style=\"width: 20px; height: 20px;background-color: rgb(41, 28, 123);\"></td><td title=\"Index: [5, 5]&#10;Color: (41, 28, 123)\" style=\"width: 20px; height: 20px;background-color: rgb(41, 28, 123);\"></td><td title=\"Index: [5, 6]&#10;Color: (41, 28, 123)\" style=\"width: 20px; height: 20px;background-color: rgb(41, 28, 123);\"></td><td title=\"Index: [5, 7]&#10;Color: (41, 28, 123)\" style=\"width: 20px; height: 20px;background-color: rgb(41, 28, 123);\"></td><td title=\"Index: [5, 8]&#10;Color: (41, 28, 123)\" style=\"width: 20px; height: 20px;background-color: rgb(41, 28, 123);\"></td><td title=\"Index: [5, 9]&#10;Color: (200, 28, 123)\" style=\"width: 20px; height: 20px;background-color: rgb(200, 28, 123);\"></td><td title=\"Index: [5, 10]&#10;Color: (41, 28, 123)\" style=\"width: 20px; height: 20px;background-color: rgb(41, 28, 123);\"></td><td title=\"Index: [5, 11]&#10;Color: (41, 28, 123)\" style=\"width: 20px; height: 20px;background-color: rgb(41, 28, 123);\"></td><td title=\"Index: [5, 12]&#10;Color: (41, 28, 123)\" style=\"width: 20px; height: 20px;background-color: rgb(41, 28, 123);\"></td><td title=\"Index: [5, 13]&#10;Color: (41, 28, 123)\" style=\"width: 20px; height: 20px;background-color: rgb(41, 28, 123);\"></td><td title=\"Index: [5, 14]&#10;Color: (41, 28, 123)\" style=\"width: 20px; height: 20px;background-color: rgb(41, 28, 123);\"></td></tr><tr><td title=\"Index: [6, 0]&#10;Color: (41, 28, 123)\" style=\"width: 20px; height: 20px;background-color: rgb(41, 28, 123);\"></td><td title=\"Index: [6, 1]&#10;Color: (200, 28, 123)\" style=\"width: 20px; height: 20px;background-color: rgb(200, 28, 123);\"></td><td title=\"Index: [6, 2]&#10;Color: (41, 28, 123)\" style=\"width: 20px; height: 20px;background-color: rgb(41, 28, 123);\"></td><td title=\"Index: [6, 3]&#10;Color: (41, 255, 123)\" style=\"width: 20px; height: 20px;background-color: rgb(41, 255, 123);\"></td><td title=\"Index: [6, 4]&#10;Color: (41, 28, 123)\" style=\"width: 20px; height: 20px;background-color: rgb(41, 28, 123);\"></td><td title=\"Index: [6, 5]&#10;Color: (41, 28, 123)\" style=\"width: 20px; height: 20px;background-color: rgb(41, 28, 123);\"></td><td title=\"Index: [6, 6]&#10;Color: (41, 28, 123)\" style=\"width: 20px; height: 20px;background-color: rgb(41, 28, 123);\"></td><td title=\"Index: [6, 7]&#10;Color: (41, 28, 123)\" style=\"width: 20px; height: 20px;background-color: rgb(41, 28, 123);\"></td><td title=\"Index: [6, 8]&#10;Color: (200, 28, 123)\" style=\"width: 20px; height: 20px;background-color: rgb(200, 28, 123);\"></td><td title=\"Index: [6, 9]&#10;Color: (41, 28, 123)\" style=\"width: 20px; height: 20px;background-color: rgb(41, 28, 123);\"></td><td title=\"Index: [6, 10]&#10;Color: (41, 28, 123)\" style=\"width: 20px; height: 20px;background-color: rgb(41, 28, 123);\"></td><td title=\"Index: [6, 11]&#10;Color: (41, 28, 123)\" style=\"width: 20px; height: 20px;background-color: rgb(41, 28, 123);\"></td><td title=\"Index: [6, 12]&#10;Color: (41, 28, 123)\" style=\"width: 20px; height: 20px;background-color: rgb(41, 28, 123);\"></td><td title=\"Index: [6, 13]&#10;Color: (41, 28, 123)\" style=\"width: 20px; height: 20px;background-color: rgb(41, 28, 123);\"></td><td title=\"Index: [6, 14]&#10;Color: (41, 28, 123)\" style=\"width: 20px; height: 20px;background-color: rgb(41, 28, 123);\"></td></tr><tr><td title=\"Index: [7, 0]&#10;Color: (200, 28, 123)\" style=\"width: 20px; height: 20px;background-color: rgb(200, 28, 123);\"></td><td title=\"Index: [7, 1]&#10;Color: (41, 28, 123)\" style=\"width: 20px; height: 20px;background-color: rgb(41, 28, 123);\"></td><td title=\"Index: [7, 2]&#10;Color: (41, 28, 123)\" style=\"width: 20px; height: 20px;background-color: rgb(41, 28, 123);\"></td><td title=\"Index: [7, 3]&#10;Color: (41, 255, 123)\" style=\"width: 20px; height: 20px;background-color: rgb(41, 255, 123);\"></td><td title=\"Index: [7, 4]&#10;Color: (41, 28, 123)\" style=\"width: 20px; height: 20px;background-color: rgb(41, 28, 123);\"></td><td title=\"Index: [7, 5]&#10;Color: (41, 28, 123)\" style=\"width: 20px; height: 20px;background-color: rgb(41, 28, 123);\"></td><td title=\"Index: [7, 6]&#10;Color: (41, 28, 123)\" style=\"width: 20px; height: 20px;background-color: rgb(41, 28, 123);\"></td><td title=\"Index: [7, 7]&#10;Color: (200, 28, 123)\" style=\"width: 20px; height: 20px;background-color: rgb(200, 28, 123);\"></td><td title=\"Index: [7, 8]&#10;Color: (41, 28, 123)\" style=\"width: 20px; height: 20px;background-color: rgb(41, 28, 123);\"></td><td title=\"Index: [7, 9]&#10;Color: (41, 28, 123)\" style=\"width: 20px; height: 20px;background-color: rgb(41, 28, 123);\"></td><td title=\"Index: [7, 10]&#10;Color: (41, 28, 123)\" style=\"width: 20px; height: 20px;background-color: rgb(41, 28, 123);\"></td><td title=\"Index: [7, 11]&#10;Color: (41, 28, 123)\" style=\"width: 20px; height: 20px;background-color: rgb(41, 28, 123);\"></td><td title=\"Index: [7, 12]&#10;Color: (41, 28, 123)\" style=\"width: 20px; height: 20px;background-color: rgb(41, 28, 123);\"></td><td title=\"Index: [7, 13]&#10;Color: (41, 28, 123)\" style=\"width: 20px; height: 20px;background-color: rgb(41, 28, 123);\"></td><td title=\"Index: [7, 14]&#10;Color: (200, 28, 123)\" style=\"width: 20px; height: 20px;background-color: rgb(200, 28, 123);\"></td></tr></tbody></table>"
      ],
      "text/plain": [
       "<IPython.core.display.HTML object>"
      ]
     },
     "metadata": {},
     "output_type": "display_data"
    }
   ],
   "source": [
    "i = 0\n",
    "\n",
    "for block in grid:\n",
    "    if ((i % 7) == 0):\n",
    "        block.red = 200\n",
    "    i = i + 1\n",
    "    \n",
    "grid.show()       "
   ]
  },
  {
   "cell_type": "code",
   "execution_count": 26,
   "metadata": {
    "collapsed": false
   },
   "outputs": [
    {
     "data": {
      "text/html": [
       "<style type=\"text/css\">table.blockgrid {border: none;} .blockgrid tr {border: none;} .blockgrid td {padding: 0px;} #blocksb8368d9f-ee99-443c-b467-5e584c5ca837 td {border: 1px solid white;}</style><table id=\"blocksb8368d9f-ee99-443c-b467-5e584c5ca837\" class=\"blockgrid\"><tbody><tr><td title=\"Index: [0, 0]&#10;Color: (242, 28, 123)\" style=\"width: 20px; height: 20px;background-color: rgb(242, 28, 123);\"></td><td title=\"Index: [0, 1]&#10;Color: (242, 28, 123)\" style=\"width: 20px; height: 20px;background-color: rgb(242, 28, 123);\"></td><td title=\"Index: [0, 2]&#10;Color: (242, 28, 123)\" style=\"width: 20px; height: 20px;background-color: rgb(242, 28, 123);\"></td><td title=\"Index: [0, 3]&#10;Color: (242, 28, 123)\" style=\"width: 20px; height: 20px;background-color: rgb(242, 28, 123);\"></td><td title=\"Index: [0, 4]&#10;Color: (242, 28, 123)\" style=\"width: 20px; height: 20px;background-color: rgb(242, 28, 123);\"></td><td title=\"Index: [0, 5]&#10;Color: (242, 28, 123)\" style=\"width: 20px; height: 20px;background-color: rgb(242, 28, 123);\"></td><td title=\"Index: [0, 6]&#10;Color: (242, 28, 123)\" style=\"width: 20px; height: 20px;background-color: rgb(242, 28, 123);\"></td><td title=\"Index: [0, 7]&#10;Color: (242, 28, 123)\" style=\"width: 20px; height: 20px;background-color: rgb(242, 28, 123);\"></td><td title=\"Index: [0, 8]&#10;Color: (242, 28, 123)\" style=\"width: 20px; height: 20px;background-color: rgb(242, 28, 123);\"></td><td title=\"Index: [0, 9]&#10;Color: (242, 28, 123)\" style=\"width: 20px; height: 20px;background-color: rgb(242, 28, 123);\"></td><td title=\"Index: [0, 10]&#10;Color: (242, 28, 123)\" style=\"width: 20px; height: 20px;background-color: rgb(242, 28, 123);\"></td><td title=\"Index: [0, 11]&#10;Color: (242, 28, 123)\" style=\"width: 20px; height: 20px;background-color: rgb(242, 28, 123);\"></td><td title=\"Index: [0, 12]&#10;Color: (242, 28, 123)\" style=\"width: 20px; height: 20px;background-color: rgb(242, 28, 123);\"></td><td title=\"Index: [0, 13]&#10;Color: (242, 28, 123)\" style=\"width: 20px; height: 20px;background-color: rgb(242, 28, 123);\"></td><td title=\"Index: [0, 14]&#10;Color: (242, 28, 123)\" style=\"width: 20px; height: 20px;background-color: rgb(242, 28, 123);\"></td></tr><tr><td title=\"Index: [1, 0]&#10;Color: (242, 28, 123)\" style=\"width: 20px; height: 20px;background-color: rgb(242, 28, 123);\"></td><td title=\"Index: [1, 1]&#10;Color: (242, 28, 123)\" style=\"width: 20px; height: 20px;background-color: rgb(242, 28, 123);\"></td><td title=\"Index: [1, 2]&#10;Color: (242, 28, 123)\" style=\"width: 20px; height: 20px;background-color: rgb(242, 28, 123);\"></td><td title=\"Index: [1, 3]&#10;Color: (242, 28, 123)\" style=\"width: 20px; height: 20px;background-color: rgb(242, 28, 123);\"></td><td title=\"Index: [1, 4]&#10;Color: (242, 28, 123)\" style=\"width: 20px; height: 20px;background-color: rgb(242, 28, 123);\"></td><td title=\"Index: [1, 5]&#10;Color: (242, 28, 123)\" style=\"width: 20px; height: 20px;background-color: rgb(242, 28, 123);\"></td><td title=\"Index: [1, 6]&#10;Color: (242, 28, 123)\" style=\"width: 20px; height: 20px;background-color: rgb(242, 28, 123);\"></td><td title=\"Index: [1, 7]&#10;Color: (242, 28, 123)\" style=\"width: 20px; height: 20px;background-color: rgb(242, 28, 123);\"></td><td title=\"Index: [1, 8]&#10;Color: (242, 28, 123)\" style=\"width: 20px; height: 20px;background-color: rgb(242, 28, 123);\"></td><td title=\"Index: [1, 9]&#10;Color: (242, 28, 123)\" style=\"width: 20px; height: 20px;background-color: rgb(242, 28, 123);\"></td><td title=\"Index: [1, 10]&#10;Color: (242, 28, 123)\" style=\"width: 20px; height: 20px;background-color: rgb(242, 28, 123);\"></td><td title=\"Index: [1, 11]&#10;Color: (242, 28, 123)\" style=\"width: 20px; height: 20px;background-color: rgb(242, 28, 123);\"></td><td title=\"Index: [1, 12]&#10;Color: (242, 28, 123)\" style=\"width: 20px; height: 20px;background-color: rgb(242, 28, 123);\"></td><td title=\"Index: [1, 13]&#10;Color: (242, 28, 123)\" style=\"width: 20px; height: 20px;background-color: rgb(242, 28, 123);\"></td><td title=\"Index: [1, 14]&#10;Color: (242, 28, 123)\" style=\"width: 20px; height: 20px;background-color: rgb(242, 28, 123);\"></td></tr><tr><td title=\"Index: [2, 0]&#10;Color: (242, 28, 123)\" style=\"width: 20px; height: 20px;background-color: rgb(242, 28, 123);\"></td><td title=\"Index: [2, 1]&#10;Color: (242, 28, 123)\" style=\"width: 20px; height: 20px;background-color: rgb(242, 28, 123);\"></td><td title=\"Index: [2, 2]&#10;Color: (242, 28, 123)\" style=\"width: 20px; height: 20px;background-color: rgb(242, 28, 123);\"></td><td title=\"Index: [2, 3]&#10;Color: (242, 28, 123)\" style=\"width: 20px; height: 20px;background-color: rgb(242, 28, 123);\"></td><td title=\"Index: [2, 4]&#10;Color: (242, 28, 123)\" style=\"width: 20px; height: 20px;background-color: rgb(242, 28, 123);\"></td><td title=\"Index: [2, 5]&#10;Color: (242, 28, 123)\" style=\"width: 20px; height: 20px;background-color: rgb(242, 28, 123);\"></td><td title=\"Index: [2, 6]&#10;Color: (242, 28, 123)\" style=\"width: 20px; height: 20px;background-color: rgb(242, 28, 123);\"></td><td title=\"Index: [2, 7]&#10;Color: (242, 28, 123)\" style=\"width: 20px; height: 20px;background-color: rgb(242, 28, 123);\"></td><td title=\"Index: [2, 8]&#10;Color: (242, 28, 123)\" style=\"width: 20px; height: 20px;background-color: rgb(242, 28, 123);\"></td><td title=\"Index: [2, 9]&#10;Color: (242, 28, 123)\" style=\"width: 20px; height: 20px;background-color: rgb(242, 28, 123);\"></td><td title=\"Index: [2, 10]&#10;Color: (242, 28, 123)\" style=\"width: 20px; height: 20px;background-color: rgb(242, 28, 123);\"></td><td title=\"Index: [2, 11]&#10;Color: (242, 28, 123)\" style=\"width: 20px; height: 20px;background-color: rgb(242, 28, 123);\"></td><td title=\"Index: [2, 12]&#10;Color: (242, 28, 123)\" style=\"width: 20px; height: 20px;background-color: rgb(242, 28, 123);\"></td><td title=\"Index: [2, 13]&#10;Color: (242, 28, 123)\" style=\"width: 20px; height: 20px;background-color: rgb(242, 28, 123);\"></td><td title=\"Index: [2, 14]&#10;Color: (242, 28, 123)\" style=\"width: 20px; height: 20px;background-color: rgb(242, 28, 123);\"></td></tr><tr><td title=\"Index: [3, 0]&#10;Color: (242, 28, 123)\" style=\"width: 20px; height: 20px;background-color: rgb(242, 28, 123);\"></td><td title=\"Index: [3, 1]&#10;Color: (242, 28, 123)\" style=\"width: 20px; height: 20px;background-color: rgb(242, 28, 123);\"></td><td title=\"Index: [3, 2]&#10;Color: (242, 28, 123)\" style=\"width: 20px; height: 20px;background-color: rgb(242, 28, 123);\"></td><td title=\"Index: [3, 3]&#10;Color: (242, 28, 123)\" style=\"width: 20px; height: 20px;background-color: rgb(242, 28, 123);\"></td><td title=\"Index: [3, 4]&#10;Color: (242, 28, 123)\" style=\"width: 20px; height: 20px;background-color: rgb(242, 28, 123);\"></td><td title=\"Index: [3, 5]&#10;Color: (242, 28, 123)\" style=\"width: 20px; height: 20px;background-color: rgb(242, 28, 123);\"></td><td title=\"Index: [3, 6]&#10;Color: (242, 28, 123)\" style=\"width: 20px; height: 20px;background-color: rgb(242, 28, 123);\"></td><td title=\"Index: [3, 7]&#10;Color: (242, 28, 123)\" style=\"width: 20px; height: 20px;background-color: rgb(242, 28, 123);\"></td><td title=\"Index: [3, 8]&#10;Color: (242, 28, 123)\" style=\"width: 20px; height: 20px;background-color: rgb(242, 28, 123);\"></td><td title=\"Index: [3, 9]&#10;Color: (242, 28, 123)\" style=\"width: 20px; height: 20px;background-color: rgb(242, 28, 123);\"></td><td title=\"Index: [3, 10]&#10;Color: (242, 28, 123)\" style=\"width: 20px; height: 20px;background-color: rgb(242, 28, 123);\"></td><td title=\"Index: [3, 11]&#10;Color: (242, 28, 123)\" style=\"width: 20px; height: 20px;background-color: rgb(242, 28, 123);\"></td><td title=\"Index: [3, 12]&#10;Color: (242, 28, 123)\" style=\"width: 20px; height: 20px;background-color: rgb(242, 28, 123);\"></td><td title=\"Index: [3, 13]&#10;Color: (242, 28, 123)\" style=\"width: 20px; height: 20px;background-color: rgb(242, 28, 123);\"></td><td title=\"Index: [3, 14]&#10;Color: (242, 28, 123)\" style=\"width: 20px; height: 20px;background-color: rgb(242, 28, 123);\"></td></tr><tr><td title=\"Index: [4, 0]&#10;Color: (242, 28, 123)\" style=\"width: 20px; height: 20px;background-color: rgb(242, 28, 123);\"></td><td title=\"Index: [4, 1]&#10;Color: (242, 28, 123)\" style=\"width: 20px; height: 20px;background-color: rgb(242, 28, 123);\"></td><td title=\"Index: [4, 2]&#10;Color: (242, 28, 123)\" style=\"width: 20px; height: 20px;background-color: rgb(242, 28, 123);\"></td><td title=\"Index: [4, 3]&#10;Color: (242, 28, 123)\" style=\"width: 20px; height: 20px;background-color: rgb(242, 28, 123);\"></td><td title=\"Index: [4, 4]&#10;Color: (242, 28, 123)\" style=\"width: 20px; height: 20px;background-color: rgb(242, 28, 123);\"></td><td title=\"Index: [4, 5]&#10;Color: (242, 28, 123)\" style=\"width: 20px; height: 20px;background-color: rgb(242, 28, 123);\"></td><td title=\"Index: [4, 6]&#10;Color: (242, 28, 123)\" style=\"width: 20px; height: 20px;background-color: rgb(242, 28, 123);\"></td><td title=\"Index: [4, 7]&#10;Color: (242, 28, 123)\" style=\"width: 20px; height: 20px;background-color: rgb(242, 28, 123);\"></td><td title=\"Index: [4, 8]&#10;Color: (242, 28, 123)\" style=\"width: 20px; height: 20px;background-color: rgb(242, 28, 123);\"></td><td title=\"Index: [4, 9]&#10;Color: (242, 28, 123)\" style=\"width: 20px; height: 20px;background-color: rgb(242, 28, 123);\"></td><td title=\"Index: [4, 10]&#10;Color: (242, 28, 123)\" style=\"width: 20px; height: 20px;background-color: rgb(242, 28, 123);\"></td><td title=\"Index: [4, 11]&#10;Color: (242, 28, 123)\" style=\"width: 20px; height: 20px;background-color: rgb(242, 28, 123);\"></td><td title=\"Index: [4, 12]&#10;Color: (242, 28, 123)\" style=\"width: 20px; height: 20px;background-color: rgb(242, 28, 123);\"></td><td title=\"Index: [4, 13]&#10;Color: (242, 28, 123)\" style=\"width: 20px; height: 20px;background-color: rgb(242, 28, 123);\"></td><td title=\"Index: [4, 14]&#10;Color: (242, 28, 123)\" style=\"width: 20px; height: 20px;background-color: rgb(242, 28, 123);\"></td></tr><tr><td title=\"Index: [5, 0]&#10;Color: (242, 28, 123)\" style=\"width: 20px; height: 20px;background-color: rgb(242, 28, 123);\"></td><td title=\"Index: [5, 1]&#10;Color: (242, 28, 123)\" style=\"width: 20px; height: 20px;background-color: rgb(242, 28, 123);\"></td><td title=\"Index: [5, 2]&#10;Color: (242, 28, 123)\" style=\"width: 20px; height: 20px;background-color: rgb(242, 28, 123);\"></td><td title=\"Index: [5, 3]&#10;Color: (242, 28, 123)\" style=\"width: 20px; height: 20px;background-color: rgb(242, 28, 123);\"></td><td title=\"Index: [5, 4]&#10;Color: (242, 28, 123)\" style=\"width: 20px; height: 20px;background-color: rgb(242, 28, 123);\"></td><td title=\"Index: [5, 5]&#10;Color: (242, 28, 123)\" style=\"width: 20px; height: 20px;background-color: rgb(242, 28, 123);\"></td><td title=\"Index: [5, 6]&#10;Color: (242, 28, 123)\" style=\"width: 20px; height: 20px;background-color: rgb(242, 28, 123);\"></td><td title=\"Index: [5, 7]&#10;Color: (242, 28, 123)\" style=\"width: 20px; height: 20px;background-color: rgb(242, 28, 123);\"></td><td title=\"Index: [5, 8]&#10;Color: (242, 28, 123)\" style=\"width: 20px; height: 20px;background-color: rgb(242, 28, 123);\"></td><td title=\"Index: [5, 9]&#10;Color: (242, 28, 123)\" style=\"width: 20px; height: 20px;background-color: rgb(242, 28, 123);\"></td><td title=\"Index: [5, 10]&#10;Color: (242, 28, 123)\" style=\"width: 20px; height: 20px;background-color: rgb(242, 28, 123);\"></td><td title=\"Index: [5, 11]&#10;Color: (242, 28, 123)\" style=\"width: 20px; height: 20px;background-color: rgb(242, 28, 123);\"></td><td title=\"Index: [5, 12]&#10;Color: (242, 28, 123)\" style=\"width: 20px; height: 20px;background-color: rgb(242, 28, 123);\"></td><td title=\"Index: [5, 13]&#10;Color: (242, 28, 123)\" style=\"width: 20px; height: 20px;background-color: rgb(242, 28, 123);\"></td><td title=\"Index: [5, 14]&#10;Color: (242, 28, 123)\" style=\"width: 20px; height: 20px;background-color: rgb(242, 28, 123);\"></td></tr><tr><td title=\"Index: [6, 0]&#10;Color: (242, 28, 123)\" style=\"width: 20px; height: 20px;background-color: rgb(242, 28, 123);\"></td><td title=\"Index: [6, 1]&#10;Color: (242, 28, 123)\" style=\"width: 20px; height: 20px;background-color: rgb(242, 28, 123);\"></td><td title=\"Index: [6, 2]&#10;Color: (242, 28, 123)\" style=\"width: 20px; height: 20px;background-color: rgb(242, 28, 123);\"></td><td title=\"Index: [6, 3]&#10;Color: (242, 28, 123)\" style=\"width: 20px; height: 20px;background-color: rgb(242, 28, 123);\"></td><td title=\"Index: [6, 4]&#10;Color: (242, 28, 123)\" style=\"width: 20px; height: 20px;background-color: rgb(242, 28, 123);\"></td><td title=\"Index: [6, 5]&#10;Color: (242, 28, 123)\" style=\"width: 20px; height: 20px;background-color: rgb(242, 28, 123);\"></td><td title=\"Index: [6, 6]&#10;Color: (242, 28, 123)\" style=\"width: 20px; height: 20px;background-color: rgb(242, 28, 123);\"></td><td title=\"Index: [6, 7]&#10;Color: (242, 28, 123)\" style=\"width: 20px; height: 20px;background-color: rgb(242, 28, 123);\"></td><td title=\"Index: [6, 8]&#10;Color: (242, 28, 123)\" style=\"width: 20px; height: 20px;background-color: rgb(242, 28, 123);\"></td><td title=\"Index: [6, 9]&#10;Color: (242, 28, 123)\" style=\"width: 20px; height: 20px;background-color: rgb(242, 28, 123);\"></td><td title=\"Index: [6, 10]&#10;Color: (242, 28, 123)\" style=\"width: 20px; height: 20px;background-color: rgb(242, 28, 123);\"></td><td title=\"Index: [6, 11]&#10;Color: (242, 28, 123)\" style=\"width: 20px; height: 20px;background-color: rgb(242, 28, 123);\"></td><td title=\"Index: [6, 12]&#10;Color: (242, 28, 123)\" style=\"width: 20px; height: 20px;background-color: rgb(242, 28, 123);\"></td><td title=\"Index: [6, 13]&#10;Color: (242, 28, 123)\" style=\"width: 20px; height: 20px;background-color: rgb(242, 28, 123);\"></td><td title=\"Index: [6, 14]&#10;Color: (242, 28, 123)\" style=\"width: 20px; height: 20px;background-color: rgb(242, 28, 123);\"></td></tr><tr><td title=\"Index: [7, 0]&#10;Color: (242, 28, 123)\" style=\"width: 20px; height: 20px;background-color: rgb(242, 28, 123);\"></td><td title=\"Index: [7, 1]&#10;Color: (242, 28, 123)\" style=\"width: 20px; height: 20px;background-color: rgb(242, 28, 123);\"></td><td title=\"Index: [7, 2]&#10;Color: (242, 28, 123)\" style=\"width: 20px; height: 20px;background-color: rgb(242, 28, 123);\"></td><td title=\"Index: [7, 3]&#10;Color: (242, 28, 123)\" style=\"width: 20px; height: 20px;background-color: rgb(242, 28, 123);\"></td><td title=\"Index: [7, 4]&#10;Color: (242, 28, 123)\" style=\"width: 20px; height: 20px;background-color: rgb(242, 28, 123);\"></td><td title=\"Index: [7, 5]&#10;Color: (242, 28, 123)\" style=\"width: 20px; height: 20px;background-color: rgb(242, 28, 123);\"></td><td title=\"Index: [7, 6]&#10;Color: (242, 28, 123)\" style=\"width: 20px; height: 20px;background-color: rgb(242, 28, 123);\"></td><td title=\"Index: [7, 7]&#10;Color: (242, 28, 123)\" style=\"width: 20px; height: 20px;background-color: rgb(242, 28, 123);\"></td><td title=\"Index: [7, 8]&#10;Color: (242, 28, 123)\" style=\"width: 20px; height: 20px;background-color: rgb(242, 28, 123);\"></td><td title=\"Index: [7, 9]&#10;Color: (242, 28, 123)\" style=\"width: 20px; height: 20px;background-color: rgb(242, 28, 123);\"></td><td title=\"Index: [7, 10]&#10;Color: (242, 28, 123)\" style=\"width: 20px; height: 20px;background-color: rgb(242, 28, 123);\"></td><td title=\"Index: [7, 11]&#10;Color: (242, 28, 123)\" style=\"width: 20px; height: 20px;background-color: rgb(242, 28, 123);\"></td><td title=\"Index: [7, 12]&#10;Color: (242, 28, 123)\" style=\"width: 20px; height: 20px;background-color: rgb(242, 28, 123);\"></td><td title=\"Index: [7, 13]&#10;Color: (242, 28, 123)\" style=\"width: 20px; height: 20px;background-color: rgb(242, 28, 123);\"></td><td title=\"Index: [7, 14]&#10;Color: (242, 28, 123)\" style=\"width: 20px; height: 20px;background-color: rgb(242, 28, 123);\"></td></tr></tbody></table>"
      ],
      "text/plain": [
       "<IPython.core.display.HTML object>"
      ]
     },
     "metadata": {},
     "output_type": "display_data"
    }
   ],
   "source": [
    "# Iterate through the grid and maybe fade the red component\n",
    "from ipythonblocks import BlockGrid\n",
    "\n",
    "grid = BlockGrid(15, 8, fill=(255, 28, 123))\n",
    "\n",
    "for block in grid:\n",
    "    block.red = block.red - 13\n",
    "    \n",
    "grid.show()"
   ]
  },
  {
   "cell_type": "code",
   "execution_count": 27,
   "metadata": {
    "collapsed": false
   },
   "outputs": [
    {
     "name": "stdout",
     "output_type": "stream",
     "text": [
      "0 0 242\n",
      "0 1 242\n",
      "0 2 242\n",
      "0 3 242\n",
      "1 0 242\n",
      "1 1 242\n",
      "1 2 242\n",
      "1 3 242\n",
      "2 0 242\n",
      "2 1 242\n",
      "2 2 242\n",
      "2 3 242\n",
      "3 0 242\n",
      "3 1 242\n",
      "3 2 242\n",
      "3 3 242\n"
     ]
    },
    {
     "data": {
      "text/html": [
       "<style type=\"text/css\">table.blockgrid {border: none;} .blockgrid tr {border: none;} .blockgrid td {padding: 0px;} #blocks398cb0cd-bf00-4650-9fb6-a8346064ac42 td {border: 1px solid white;}</style><table id=\"blocks398cb0cd-bf00-4650-9fb6-a8346064ac42\" class=\"blockgrid\"><tbody><tr><td title=\"Index: [0, 0]&#10;Color: (242, 12, 12)\" style=\"width: 35px; height: 35px;background-color: rgb(242, 12, 12);\"></td><td title=\"Index: [0, 1]&#10;Color: (242, 12, 12)\" style=\"width: 35px; height: 35px;background-color: rgb(242, 12, 12);\"></td><td title=\"Index: [0, 2]&#10;Color: (242, 12, 12)\" style=\"width: 35px; height: 35px;background-color: rgb(242, 12, 12);\"></td><td title=\"Index: [0, 3]&#10;Color: (242, 12, 12)\" style=\"width: 35px; height: 35px;background-color: rgb(242, 12, 12);\"></td></tr><tr><td title=\"Index: [1, 0]&#10;Color: (242, 12, 12)\" style=\"width: 35px; height: 35px;background-color: rgb(242, 12, 12);\"></td><td title=\"Index: [1, 1]&#10;Color: (242, 12, 12)\" style=\"width: 35px; height: 35px;background-color: rgb(242, 12, 12);\"></td><td title=\"Index: [1, 2]&#10;Color: (242, 12, 12)\" style=\"width: 35px; height: 35px;background-color: rgb(242, 12, 12);\"></td><td title=\"Index: [1, 3]&#10;Color: (242, 12, 12)\" style=\"width: 35px; height: 35px;background-color: rgb(242, 12, 12);\"></td></tr><tr><td title=\"Index: [2, 0]&#10;Color: (242, 12, 12)\" style=\"width: 35px; height: 35px;background-color: rgb(242, 12, 12);\"></td><td title=\"Index: [2, 1]&#10;Color: (242, 12, 12)\" style=\"width: 35px; height: 35px;background-color: rgb(242, 12, 12);\"></td><td title=\"Index: [2, 2]&#10;Color: (242, 12, 12)\" style=\"width: 35px; height: 35px;background-color: rgb(242, 12, 12);\"></td><td title=\"Index: [2, 3]&#10;Color: (242, 12, 12)\" style=\"width: 35px; height: 35px;background-color: rgb(242, 12, 12);\"></td></tr><tr><td title=\"Index: [3, 0]&#10;Color: (242, 12, 12)\" style=\"width: 35px; height: 35px;background-color: rgb(242, 12, 12);\"></td><td title=\"Index: [3, 1]&#10;Color: (242, 12, 12)\" style=\"width: 35px; height: 35px;background-color: rgb(242, 12, 12);\"></td><td title=\"Index: [3, 2]&#10;Color: (242, 12, 12)\" style=\"width: 35px; height: 35px;background-color: rgb(242, 12, 12);\"></td><td title=\"Index: [3, 3]&#10;Color: (242, 12, 12)\" style=\"width: 35px; height: 35px;background-color: rgb(242, 12, 12);\"></td></tr></tbody></table>"
      ],
      "text/plain": [
       "<IPython.core.display.HTML object>"
      ]
     },
     "metadata": {},
     "output_type": "display_data"
    }
   ],
   "source": [
    "# change blocksize and print out some attributes of the block\n",
    "# Why doesn't red change?  \n",
    "grid = BlockGrid(4, 4, fill=(255, 12, 12), block_size=35)\n",
    "\n",
    "for block in grid:\n",
    "    block.red = block.red - 13\n",
    "    print(block.row, block.col, block.red)\n",
    "    \n",
    "grid.show()\n"
   ]
  },
  {
   "cell_type": "code",
   "execution_count": 28,
   "metadata": {
    "collapsed": false
   },
   "outputs": [
    {
     "data": {
      "text/html": [
       "<style type=\"text/css\">table.blockgrid {border: none;} .blockgrid tr {border: none;} .blockgrid td {padding: 0px;} #blocks28dcab32-767b-4fe7-86a1-fe5d4dc2112d td {border: 1px solid white;}</style><table id=\"blocks28dcab32-767b-4fe7-86a1-fe5d4dc2112d\" class=\"blockgrid\"><tbody><tr><td title=\"Index: [0, 0]&#10;Color: (255, 12, 12)\" style=\"width: 35px; height: 35px;background-color: rgb(255, 12, 12);\"></td><td title=\"Index: [0, 1]&#10;Color: (243, 12, 12)\" style=\"width: 35px; height: 35px;background-color: rgb(243, 12, 12);\"></td><td title=\"Index: [0, 2]&#10;Color: (231, 12, 12)\" style=\"width: 35px; height: 35px;background-color: rgb(231, 12, 12);\"></td><td title=\"Index: [0, 3]&#10;Color: (219, 12, 12)\" style=\"width: 35px; height: 35px;background-color: rgb(219, 12, 12);\"></td></tr><tr><td title=\"Index: [1, 0]&#10;Color: (207, 12, 12)\" style=\"width: 35px; height: 35px;background-color: rgb(207, 12, 12);\"></td><td title=\"Index: [1, 1]&#10;Color: (195, 12, 12)\" style=\"width: 35px; height: 35px;background-color: rgb(195, 12, 12);\"></td><td title=\"Index: [1, 2]&#10;Color: (183, 12, 12)\" style=\"width: 35px; height: 35px;background-color: rgb(183, 12, 12);\"></td><td title=\"Index: [1, 3]&#10;Color: (171, 12, 12)\" style=\"width: 35px; height: 35px;background-color: rgb(171, 12, 12);\"></td></tr><tr><td title=\"Index: [2, 0]&#10;Color: (159, 12, 12)\" style=\"width: 35px; height: 35px;background-color: rgb(159, 12, 12);\"></td><td title=\"Index: [2, 1]&#10;Color: (147, 12, 12)\" style=\"width: 35px; height: 35px;background-color: rgb(147, 12, 12);\"></td><td title=\"Index: [2, 2]&#10;Color: (135, 12, 12)\" style=\"width: 35px; height: 35px;background-color: rgb(135, 12, 12);\"></td><td title=\"Index: [2, 3]&#10;Color: (123, 12, 12)\" style=\"width: 35px; height: 35px;background-color: rgb(123, 12, 12);\"></td></tr><tr><td title=\"Index: [3, 0]&#10;Color: (111, 12, 12)\" style=\"width: 35px; height: 35px;background-color: rgb(111, 12, 12);\"></td><td title=\"Index: [3, 1]&#10;Color: (99, 12, 12)\" style=\"width: 35px; height: 35px;background-color: rgb(99, 12, 12);\"></td><td title=\"Index: [3, 2]&#10;Color: (87, 12, 12)\" style=\"width: 35px; height: 35px;background-color: rgb(87, 12, 12);\"></td><td title=\"Index: [3, 3]&#10;Color: (75, 12, 12)\" style=\"width: 35px; height: 35px;background-color: rgb(75, 12, 12);\"></td></tr></tbody></table>"
      ],
      "text/plain": [
       "<IPython.core.display.HTML object>"
      ]
     },
     "metadata": {},
     "output_type": "display_data"
    }
   ],
   "source": [
    "# Expected result where red changes with each iteration\n",
    "grid = BlockGrid(4, 4, fill=(255, 12, 12), block_size=35)\n",
    "\n",
    "i = 255\n",
    "for block in grid:\n",
    "    block.red = i\n",
    "    i = i - 12\n",
    "    #print(block.col, block.row, block.red)\n",
    "grid.show()\n"
   ]
  },
  {
   "cell_type": "markdown",
   "metadata": {},
   "source": [
    "# What else can grid do?\n"
   ]
  },
  {
   "cell_type": "code",
   "execution_count": 29,
   "metadata": {
    "collapsed": false
   },
   "outputs": [
    {
     "data": {
      "text/html": [
       "<style type=\"text/css\">table.blockgrid {border: none;} .blockgrid tr {border: none;} .blockgrid td {padding: 0px;} #blocksed20b572-e39a-4786-b655-694f804b2e9f td {border: 1px solid white;}</style><table id=\"blocksed20b572-e39a-4786-b655-694f804b2e9f\" class=\"blockgrid\"><tbody><tr><td title=\"Index: [0, 0]&#10;Color: (41, 128, 123)\" style=\"width: 20px; height: 20px;background-color: rgb(41, 128, 123);\"></td><td title=\"Index: [0, 1]&#10;Color: (41, 128, 123)\" style=\"width: 20px; height: 20px;background-color: rgb(41, 128, 123);\"></td><td title=\"Index: [0, 2]&#10;Color: (41, 128, 123)\" style=\"width: 20px; height: 20px;background-color: rgb(41, 128, 123);\"></td><td title=\"Index: [0, 3]&#10;Color: (41, 128, 123)\" style=\"width: 20px; height: 20px;background-color: rgb(41, 128, 123);\"></td></tr><tr><td title=\"Index: [1, 0]&#10;Color: (41, 128, 123)\" style=\"width: 20px; height: 20px;background-color: rgb(41, 128, 123);\"></td><td title=\"Index: [1, 1]&#10;Color: (41, 128, 123)\" style=\"width: 20px; height: 20px;background-color: rgb(41, 128, 123);\"></td><td title=\"Index: [1, 2]&#10;Color: (41, 128, 123)\" style=\"width: 20px; height: 20px;background-color: rgb(41, 128, 123);\"></td><td title=\"Index: [1, 3]&#10;Color: (41, 128, 123)\" style=\"width: 20px; height: 20px;background-color: rgb(41, 128, 123);\"></td></tr><tr><td title=\"Index: [2, 0]&#10;Color: (41, 128, 123)\" style=\"width: 20px; height: 20px;background-color: rgb(41, 128, 123);\"></td><td title=\"Index: [2, 1]&#10;Color: (41, 128, 123)\" style=\"width: 20px; height: 20px;background-color: rgb(41, 128, 123);\"></td><td title=\"Index: [2, 2]&#10;Color: (41, 128, 123)\" style=\"width: 20px; height: 20px;background-color: rgb(41, 128, 123);\"></td><td title=\"Index: [2, 3]&#10;Color: (41, 128, 123)\" style=\"width: 20px; height: 20px;background-color: rgb(41, 128, 123);\"></td></tr></tbody></table>"
      ],
      "text/plain": [
       "<IPython.core.display.HTML object>"
      ]
     },
     "metadata": {},
     "output_type": "display_data"
    },
    {
     "name": "stdout",
     "output_type": "stream",
     "text": [
      "['__class__', '__delattr__', '__dict__', '__dir__', '__doc__', '__eq__', '__format__', '__ge__', '__getattribute__', '__getitem__', '__gt__', '__hash__', '__init__', '__iter__', '__le__', '__lt__', '__module__', '__ne__', '__new__', '__reduce__', '__reduce_ex__', '__repr__', '__setattr__', '__setitem__', '__sizeof__', '__slotnames__', '__str__', '__subclasshook__', '__weakref__', '_block_size', '_calc_image_size', '_categorize_index', '_construct_post_request', '_get_double_slice', '_grid', '_height', '_initialize_grid', '_lines_on', '_load_simple_grid', '_repr_html_', '_to_simple_grid', '_view_from_grid', '_width', '_write_image', 'animate', 'block_size', 'copy', 'flash', 'from_web', 'height', 'lines_on', 'post_to_web', 'save_image', 'shape', 'show', 'show_image', 'to_text', 'width']\n"
     ]
    }
   ],
   "source": [
    "grid = BlockGrid(4, 3, fill=(41, 128, 123))\n",
    "grid.show()\n",
    "print(dir(grid))"
   ]
  },
  {
   "cell_type": "markdown",
   "metadata": {},
   "source": [
    "# to_text() method"
   ]
  },
  {
   "cell_type": "code",
   "execution_count": 30,
   "metadata": {
    "collapsed": false
   },
   "outputs": [
    {
     "name": "stdout",
     "output_type": "stream",
     "text": [
      "# width height\n",
      "4 3\n",
      "# block size\n",
      "20\n",
      "# initial color\n",
      "0 0 0\n",
      "# row column red green blue\n",
      "0 0 41 128 123\n",
      "0 1 41 128 123\n",
      "0 2 41 128 123\n",
      "0 3 41 128 123\n",
      "1 0 41 128 123\n",
      "1 1 41 128 123\n",
      "1 2 41 128 123\n",
      "1 3 41 128 123\n",
      "2 0 41 128 123\n",
      "2 1 41 128 123\n",
      "2 2 41 128 123\n",
      "2 3 41 128 123\n",
      "None\n"
     ]
    }
   ],
   "source": [
    "grid = BlockGrid(4, 3, fill=(41, 128, 123))\n",
    "print (grid.to_text())"
   ]
  },
  {
   "cell_type": "code",
   "execution_count": null,
   "metadata": {
    "collapsed": true
   },
   "outputs": [],
   "source": []
  },
  {
   "cell_type": "markdown",
   "metadata": {},
   "source": [
    "# What does turning lines_on to False do?"
   ]
  },
  {
   "cell_type": "code",
   "execution_count": 31,
   "metadata": {
    "collapsed": false
   },
   "outputs": [
    {
     "data": {
      "text/html": [
       "<style type=\"text/css\">table.blockgrid {border: none;} .blockgrid tr {border: none;} .blockgrid td {padding: 0px;} #blocks3734d5c2-6163-45a0-aeb8-84d00f1e49bd td {border: 0px solid white;}</style><table id=\"blocks3734d5c2-6163-45a0-aeb8-84d00f1e49bd\" class=\"blockgrid\"><tbody><tr><td title=\"Index: [0, 0]&#10;Color: (241, 128, 123)\" style=\"width: 20px; height: 20px;background-color: rgb(241, 128, 123);\"></td><td title=\"Index: [0, 1]&#10;Color: (241, 128, 123)\" style=\"width: 20px; height: 20px;background-color: rgb(241, 128, 123);\"></td><td title=\"Index: [0, 2]&#10;Color: (241, 128, 123)\" style=\"width: 20px; height: 20px;background-color: rgb(241, 128, 123);\"></td><td title=\"Index: [0, 3]&#10;Color: (241, 128, 123)\" style=\"width: 20px; height: 20px;background-color: rgb(241, 128, 123);\"></td><td title=\"Index: [0, 4]&#10;Color: (241, 128, 123)\" style=\"width: 20px; height: 20px;background-color: rgb(241, 128, 123);\"></td></tr><tr><td title=\"Index: [1, 0]&#10;Color: (241, 128, 123)\" style=\"width: 20px; height: 20px;background-color: rgb(241, 128, 123);\"></td><td title=\"Index: [1, 1]&#10;Color: (241, 128, 123)\" style=\"width: 20px; height: 20px;background-color: rgb(241, 128, 123);\"></td><td title=\"Index: [1, 2]&#10;Color: (241, 128, 123)\" style=\"width: 20px; height: 20px;background-color: rgb(241, 128, 123);\"></td><td title=\"Index: [1, 3]&#10;Color: (241, 128, 123)\" style=\"width: 20px; height: 20px;background-color: rgb(241, 128, 123);\"></td><td title=\"Index: [1, 4]&#10;Color: (241, 128, 123)\" style=\"width: 20px; height: 20px;background-color: rgb(241, 128, 123);\"></td></tr><tr><td title=\"Index: [2, 0]&#10;Color: (241, 128, 123)\" style=\"width: 20px; height: 20px;background-color: rgb(241, 128, 123);\"></td><td title=\"Index: [2, 1]&#10;Color: (241, 128, 123)\" style=\"width: 20px; height: 20px;background-color: rgb(241, 128, 123);\"></td><td title=\"Index: [2, 2]&#10;Color: (241, 128, 123)\" style=\"width: 20px; height: 20px;background-color: rgb(241, 128, 123);\"></td><td title=\"Index: [2, 3]&#10;Color: (241, 128, 123)\" style=\"width: 20px; height: 20px;background-color: rgb(241, 128, 123);\"></td><td title=\"Index: [2, 4]&#10;Color: (241, 128, 123)\" style=\"width: 20px; height: 20px;background-color: rgb(241, 128, 123);\"></td></tr></tbody></table>"
      ],
      "text/plain": [
       "<IPython.core.display.HTML object>"
      ]
     },
     "metadata": {},
     "output_type": "display_data"
    }
   ],
   "source": [
    "grid = BlockGrid(5, 3, fill=(241, 128, 123), lines_on = False)\n",
    "grid.show()"
   ]
  },
  {
   "cell_type": "markdown",
   "metadata": {},
   "source": [
    "# What can block do?"
   ]
  },
  {
   "cell_type": "code",
   "execution_count": 32,
   "metadata": {
    "collapsed": false
   },
   "outputs": [
    {
     "data": {
      "text/html": [
       "<style type=\"text/css\">table.blockgrid {border: none;} .blockgrid tr {border: none;} .blockgrid td {padding: 0px;} #blocks5c3d6561-50e4-480b-9b15-d4447f80531f td {border: 1px solid white;}</style><table id=\"blocks5c3d6561-50e4-480b-9b15-d4447f80531f\" class=\"blockgrid\"><tbody><tr><td title=\"Index: [0, 0]&#10;Color: (41, 128, 223)\" style=\"width: 20px; height: 20px;background-color: rgb(41, 128, 223);\"></td><td title=\"Index: [0, 1]&#10;Color: (41, 128, 223)\" style=\"width: 20px; height: 20px;background-color: rgb(41, 128, 223);\"></td><td title=\"Index: [0, 2]&#10;Color: (41, 128, 223)\" style=\"width: 20px; height: 20px;background-color: rgb(41, 128, 223);\"></td></tr><tr><td title=\"Index: [1, 0]&#10;Color: (41, 128, 223)\" style=\"width: 20px; height: 20px;background-color: rgb(41, 128, 223);\"></td><td title=\"Index: [1, 1]&#10;Color: (41, 128, 223)\" style=\"width: 20px; height: 20px;background-color: rgb(41, 128, 223);\"></td><td title=\"Index: [1, 2]&#10;Color: (41, 128, 223)\" style=\"width: 20px; height: 20px;background-color: rgb(41, 128, 223);\"></td></tr><tr><td title=\"Index: [2, 0]&#10;Color: (41, 128, 223)\" style=\"width: 20px; height: 20px;background-color: rgb(41, 128, 223);\"></td><td title=\"Index: [2, 1]&#10;Color: (41, 128, 223)\" style=\"width: 20px; height: 20px;background-color: rgb(41, 128, 223);\"></td><td title=\"Index: [2, 2]&#10;Color: (41, 128, 223)\" style=\"width: 20px; height: 20px;background-color: rgb(41, 128, 223);\"></td></tr><tr><td title=\"Index: [3, 0]&#10;Color: (41, 128, 223)\" style=\"width: 20px; height: 20px;background-color: rgb(41, 128, 223);\"></td><td title=\"Index: [3, 1]&#10;Color: (41, 128, 223)\" style=\"width: 20px; height: 20px;background-color: rgb(41, 128, 223);\"></td><td title=\"Index: [3, 2]&#10;Color: (41, 128, 223)\" style=\"width: 20px; height: 20px;background-color: rgb(41, 128, 223);\"></td></tr></tbody></table>"
      ],
      "text/plain": [
       "<IPython.core.display.HTML object>"
      ]
     },
     "metadata": {},
     "output_type": "display_data"
    },
    {
     "name": "stdout",
     "output_type": "stream",
     "text": [
      "['__class__', '__delattr__', '__dict__', '__dir__', '__doc__', '__eq__', '__format__', '__ge__', '__getattribute__', '__gt__', '__hash__', '__init__', '__le__', '__lt__', '__module__', '__ne__', '__new__', '__reduce__', '__reduce_ex__', '__repr__', '__setattr__', '__sizeof__', '__slotnames__', '__str__', '__subclasshook__', '__weakref__', '_blue', '_check_value', '_col', '_green', '_red', '_repr_html_', '_row', '_size', '_td', '_update', 'blue', 'col', 'green', 'red', 'rgb', 'row', 'set_colors', 'show', 'size']\n"
     ]
    }
   ],
   "source": [
    "grid = BlockGrid(3, 4, fill=(41, 128, 223))\n",
    "grid.show()\n",
    "block0 = grid[1,2]\n",
    "print( dir(block0))"
   ]
  },
  {
   "cell_type": "code",
   "execution_count": 33,
   "metadata": {
    "collapsed": false
   },
   "outputs": [
    {
     "data": {
      "text/html": [
       "<style type=\"text/css\">table.blockgrid {border: none;} .blockgrid tr {border: none;} .blockgrid td {padding: 0px;} #blocksc50c1027-64f3-4fac-adcf-b100c776eb29 td {border: 0px solid white;}</style><table id=\"blocksc50c1027-64f3-4fac-adcf-b100c776eb29\" class=\"blockgrid\"><tbody><tr><td title=\"Index: [1, 2]&#10;Color: (41, 128, 223)\" style=\"width: 20px; height: 20px;background-color: rgb(41, 128, 223);\"></td></tr></tbody></table>"
      ],
      "text/plain": [
       "<IPython.core.display.HTML object>"
      ]
     },
     "metadata": {},
     "output_type": "display_data"
    },
    {
     "name": "stdout",
     "output_type": "stream",
     "text": [
      "20\n",
      "(41, 128, 223)\n",
      "row,col: 1 2\n"
     ]
    },
    {
     "data": {
      "text/html": [
       "<style type=\"text/css\">table.blockgrid {border: none;} .blockgrid tr {border: none;} .blockgrid td {padding: 0px;} #blocks3c698503-19a3-4bf9-83df-850a5643b8a9 td {border: 0px solid white;}</style><table id=\"blocks3c698503-19a3-4bf9-83df-850a5643b8a9\" class=\"blockgrid\"><tbody><tr><td title=\"Index: [1, 2]&#10;Color: (0, 255, 0)\" style=\"width: 20px; height: 20px;background-color: rgb(0, 255, 0);\"></td></tr></tbody></table>"
      ],
      "text/plain": [
       "<IPython.core.display.HTML object>"
      ]
     },
     "metadata": {},
     "output_type": "display_data"
    },
    {
     "data": {
      "text/html": [
       "<style type=\"text/css\">table.blockgrid {border: none;} .blockgrid tr {border: none;} .blockgrid td {padding: 0px;} #blocks328c84da-2432-4c6d-9226-3556abfb5493 td {border: 1px solid white;}</style><table id=\"blocks328c84da-2432-4c6d-9226-3556abfb5493\" class=\"blockgrid\"><tbody><tr><td title=\"Index: [0, 0]&#10;Color: (41, 128, 223)\" style=\"width: 20px; height: 20px;background-color: rgb(41, 128, 223);\"></td><td title=\"Index: [0, 1]&#10;Color: (41, 128, 223)\" style=\"width: 20px; height: 20px;background-color: rgb(41, 128, 223);\"></td><td title=\"Index: [0, 2]&#10;Color: (41, 128, 223)\" style=\"width: 20px; height: 20px;background-color: rgb(41, 128, 223);\"></td></tr><tr><td title=\"Index: [1, 0]&#10;Color: (41, 128, 223)\" style=\"width: 20px; height: 20px;background-color: rgb(41, 128, 223);\"></td><td title=\"Index: [1, 1]&#10;Color: (41, 128, 223)\" style=\"width: 20px; height: 20px;background-color: rgb(41, 128, 223);\"></td><td title=\"Index: [1, 2]&#10;Color: (0, 255, 0)\" style=\"width: 20px; height: 20px;background-color: rgb(0, 255, 0);\"></td></tr><tr><td title=\"Index: [2, 0]&#10;Color: (41, 128, 223)\" style=\"width: 20px; height: 20px;background-color: rgb(41, 128, 223);\"></td><td title=\"Index: [2, 1]&#10;Color: (41, 128, 223)\" style=\"width: 20px; height: 20px;background-color: rgb(41, 128, 223);\"></td><td title=\"Index: [2, 2]&#10;Color: (41, 128, 223)\" style=\"width: 20px; height: 20px;background-color: rgb(41, 128, 223);\"></td></tr><tr><td title=\"Index: [3, 0]&#10;Color: (41, 128, 223)\" style=\"width: 20px; height: 20px;background-color: rgb(41, 128, 223);\"></td><td title=\"Index: [3, 1]&#10;Color: (41, 128, 223)\" style=\"width: 20px; height: 20px;background-color: rgb(41, 128, 223);\"></td><td title=\"Index: [3, 2]&#10;Color: (41, 128, 223)\" style=\"width: 20px; height: 20px;background-color: rgb(41, 128, 223);\"></td></tr></tbody></table>"
      ],
      "text/plain": [
       "<IPython.core.display.HTML object>"
      ]
     },
     "metadata": {},
     "output_type": "display_data"
    }
   ],
   "source": [
    "block0.show()\n",
    "print(block0.size)\n",
    "print(block0.rgb)\n",
    "print(\"row,col:\",block0.row, block0.col)\n",
    "block0.set_colors(0,255,0)\n",
    "block0.show()\n",
    "grid.show()"
   ]
  },
  {
   "cell_type": "markdown",
   "metadata": {},
   "source": [
    "# What are the axes?\n",
    "# Upper left hand corner is [0,0] with both -> and down positive"
   ]
  },
  {
   "cell_type": "code",
   "execution_count": 34,
   "metadata": {
    "collapsed": false
   },
   "outputs": [
    {
     "data": {
      "text/html": [
       "<style type=\"text/css\">table.blockgrid {border: none;} .blockgrid tr {border: none;} .blockgrid td {padding: 0px;} #blocks06bc94a2-f181-41ef-92a3-d42d67d7db38 td {border: 1px solid white;}</style><table id=\"blocks06bc94a2-f181-41ef-92a3-d42d67d7db38\" class=\"blockgrid\"><tbody><tr><td title=\"Index: [0, 0]&#10;Color: (255, 0, 0)\" style=\"width: 25px; height: 25px;background-color: rgb(255, 0, 0);\"></td><td title=\"Index: [0, 1]&#10;Color: (0, 0, 0)\" style=\"width: 25px; height: 25px;background-color: rgb(0, 0, 0);\"></td><td title=\"Index: [0, 2]&#10;Color: (0, 0, 0)\" style=\"width: 25px; height: 25px;background-color: rgb(0, 0, 0);\"></td><td title=\"Index: [0, 3]&#10;Color: (0, 0, 0)\" style=\"width: 25px; height: 25px;background-color: rgb(0, 0, 0);\"></td><td title=\"Index: [0, 4]&#10;Color: (0, 0, 0)\" style=\"width: 25px; height: 25px;background-color: rgb(0, 0, 0);\"></td><td title=\"Index: [0, 5]&#10;Color: (0, 0, 0)\" style=\"width: 25px; height: 25px;background-color: rgb(0, 0, 0);\"></td></tr><tr><td title=\"Index: [1, 0]&#10;Color: (0, 0, 0)\" style=\"width: 25px; height: 25px;background-color: rgb(0, 0, 0);\"></td><td title=\"Index: [1, 1]&#10;Color: (0, 0, 0)\" style=\"width: 25px; height: 25px;background-color: rgb(0, 0, 0);\"></td><td title=\"Index: [1, 2]&#10;Color: (0, 255, 0)\" style=\"width: 25px; height: 25px;background-color: rgb(0, 255, 0);\"></td><td title=\"Index: [1, 3]&#10;Color: (0, 0, 0)\" style=\"width: 25px; height: 25px;background-color: rgb(0, 0, 0);\"></td><td title=\"Index: [1, 4]&#10;Color: (0, 0, 0)\" style=\"width: 25px; height: 25px;background-color: rgb(0, 0, 0);\"></td><td title=\"Index: [1, 5]&#10;Color: (0, 0, 0)\" style=\"width: 25px; height: 25px;background-color: rgb(0, 0, 0);\"></td></tr><tr><td title=\"Index: [2, 0]&#10;Color: (0, 0, 0)\" style=\"width: 25px; height: 25px;background-color: rgb(0, 0, 0);\"></td><td title=\"Index: [2, 1]&#10;Color: (0, 0, 0)\" style=\"width: 25px; height: 25px;background-color: rgb(0, 0, 0);\"></td><td title=\"Index: [2, 2]&#10;Color: (0, 0, 0)\" style=\"width: 25px; height: 25px;background-color: rgb(0, 0, 0);\"></td><td title=\"Index: [2, 3]&#10;Color: (0, 255, 255)\" style=\"width: 25px; height: 25px;background-color: rgb(0, 255, 255);\"></td><td title=\"Index: [2, 4]&#10;Color: (0, 0, 0)\" style=\"width: 25px; height: 25px;background-color: rgb(0, 0, 0);\"></td><td title=\"Index: [2, 5]&#10;Color: (0, 0, 0)\" style=\"width: 25px; height: 25px;background-color: rgb(0, 0, 0);\"></td></tr></tbody></table>"
      ],
      "text/plain": [
       "<IPython.core.display.HTML object>"
      ]
     },
     "metadata": {},
     "output_type": "display_data"
    }
   ],
   "source": [
    "grid = BlockGrid(6, 3, fill=(0, 0, 0), block_size = 25)\n",
    "\n",
    "grid[0,0].set_colors(255,0,0)\n",
    "\n",
    "grid[1,2].set_colors(0,255,0)\n",
    "\n",
    "grid[2,3].set_colors(0,255,255)\n",
    "grid.show()"
   ]
  },
  {
   "cell_type": "markdown",
   "metadata": {},
   "source": [
    "# Access the blocks with a NumPy Array notation\n",
    "# If there are no commas in the grid[ ] brackets, it works on the rows\n",
    "#\n",
    "# grid[1:2]  is row 1 (starting from 0) up to but not including row 2"
   ]
  },
  {
   "cell_type": "code",
   "execution_count": 35,
   "metadata": {
    "collapsed": false
   },
   "outputs": [
    {
     "data": {
      "text/html": [
       "<style type=\"text/css\">table.blockgrid {border: none;} .blockgrid tr {border: none;} .blockgrid td {padding: 0px;} #blocksfb6c631e-719f-464b-89af-0c0332a74a00 td {border: 1px solid white;}</style><table id=\"blocksfb6c631e-719f-464b-89af-0c0332a74a00\" class=\"blockgrid\"><tbody><tr><td title=\"Index: [0, 0]&#10;Color: (0, 0, 0)\" style=\"width: 20px; height: 20px;background-color: rgb(0, 0, 0);\"></td><td title=\"Index: [0, 1]&#10;Color: (0, 0, 0)\" style=\"width: 20px; height: 20px;background-color: rgb(0, 0, 0);\"></td><td title=\"Index: [0, 2]&#10;Color: (0, 0, 0)\" style=\"width: 20px; height: 20px;background-color: rgb(0, 0, 0);\"></td><td title=\"Index: [0, 3]&#10;Color: (0, 0, 0)\" style=\"width: 20px; height: 20px;background-color: rgb(0, 0, 0);\"></td><td title=\"Index: [0, 4]&#10;Color: (0, 0, 0)\" style=\"width: 20px; height: 20px;background-color: rgb(0, 0, 0);\"></td><td title=\"Index: [0, 5]&#10;Color: (0, 0, 0)\" style=\"width: 20px; height: 20px;background-color: rgb(0, 0, 0);\"></td></tr><tr><td title=\"Index: [1, 0]&#10;Color: (111, 222, 233)\" style=\"width: 20px; height: 20px;background-color: rgb(111, 222, 233);\"></td><td title=\"Index: [1, 1]&#10;Color: (111, 222, 233)\" style=\"width: 20px; height: 20px;background-color: rgb(111, 222, 233);\"></td><td title=\"Index: [1, 2]&#10;Color: (111, 222, 233)\" style=\"width: 20px; height: 20px;background-color: rgb(111, 222, 233);\"></td><td title=\"Index: [1, 3]&#10;Color: (111, 222, 233)\" style=\"width: 20px; height: 20px;background-color: rgb(111, 222, 233);\"></td><td title=\"Index: [1, 4]&#10;Color: (111, 222, 233)\" style=\"width: 20px; height: 20px;background-color: rgb(111, 222, 233);\"></td><td title=\"Index: [1, 5]&#10;Color: (111, 222, 233)\" style=\"width: 20px; height: 20px;background-color: rgb(111, 222, 233);\"></td></tr><tr><td title=\"Index: [2, 0]&#10;Color: (0, 0, 0)\" style=\"width: 20px; height: 20px;background-color: rgb(0, 0, 0);\"></td><td title=\"Index: [2, 1]&#10;Color: (0, 0, 0)\" style=\"width: 20px; height: 20px;background-color: rgb(0, 0, 0);\"></td><td title=\"Index: [2, 2]&#10;Color: (0, 0, 0)\" style=\"width: 20px; height: 20px;background-color: rgb(0, 0, 0);\"></td><td title=\"Index: [2, 3]&#10;Color: (0, 0, 0)\" style=\"width: 20px; height: 20px;background-color: rgb(0, 0, 0);\"></td><td title=\"Index: [2, 4]&#10;Color: (0, 0, 0)\" style=\"width: 20px; height: 20px;background-color: rgb(0, 0, 0);\"></td><td title=\"Index: [2, 5]&#10;Color: (0, 0, 0)\" style=\"width: 20px; height: 20px;background-color: rgb(0, 0, 0);\"></td></tr><tr><td title=\"Index: [3, 0]&#10;Color: (0, 0, 0)\" style=\"width: 20px; height: 20px;background-color: rgb(0, 0, 0);\"></td><td title=\"Index: [3, 1]&#10;Color: (0, 0, 0)\" style=\"width: 20px; height: 20px;background-color: rgb(0, 0, 0);\"></td><td title=\"Index: [3, 2]&#10;Color: (0, 0, 0)\" style=\"width: 20px; height: 20px;background-color: rgb(0, 0, 0);\"></td><td title=\"Index: [3, 3]&#10;Color: (0, 0, 0)\" style=\"width: 20px; height: 20px;background-color: rgb(0, 0, 0);\"></td><td title=\"Index: [3, 4]&#10;Color: (0, 0, 0)\" style=\"width: 20px; height: 20px;background-color: rgb(0, 0, 0);\"></td><td title=\"Index: [3, 5]&#10;Color: (0, 0, 0)\" style=\"width: 20px; height: 20px;background-color: rgb(0, 0, 0);\"></td></tr></tbody></table>"
      ],
      "text/plain": [
       "<IPython.core.display.HTML object>"
      ]
     },
     "metadata": {},
     "output_type": "display_data"
    }
   ],
   "source": [
    "grid = BlockGrid(6, 4, fill=(0, 0, 0))\n",
    "grid[1:2] =(111,222,233)\n",
    "grid.show()"
   ]
  },
  {
   "cell_type": "markdown",
   "metadata": {},
   "source": [
    "# Second param in grid [ ] is the columns\n",
    "# Assign new value to rows 0 thru 1  and columns  1 thru everything except the last 1 item\n",
    "\n",
    "# grid[0:2, 1:-1]"
   ]
  },
  {
   "cell_type": "code",
   "execution_count": 36,
   "metadata": {
    "collapsed": false
   },
   "outputs": [
    {
     "data": {
      "text/html": [
       "<style type=\"text/css\">table.blockgrid {border: none;} .blockgrid tr {border: none;} .blockgrid td {padding: 0px;} #blocks71a15c18-b3df-459a-a9ae-c05028332a93 td {border: 1px solid white;}</style><table id=\"blocks71a15c18-b3df-459a-a9ae-c05028332a93\" class=\"blockgrid\"><tbody><tr><td title=\"Index: [0, 0]&#10;Color: (0, 0, 0)\" style=\"width: 20px; height: 20px;background-color: rgb(0, 0, 0);\"></td><td title=\"Index: [0, 1]&#10;Color: (211, 22, 233)\" style=\"width: 20px; height: 20px;background-color: rgb(211, 22, 233);\"></td><td title=\"Index: [0, 2]&#10;Color: (211, 22, 233)\" style=\"width: 20px; height: 20px;background-color: rgb(211, 22, 233);\"></td><td title=\"Index: [0, 3]&#10;Color: (211, 22, 233)\" style=\"width: 20px; height: 20px;background-color: rgb(211, 22, 233);\"></td><td title=\"Index: [0, 4]&#10;Color: (211, 22, 233)\" style=\"width: 20px; height: 20px;background-color: rgb(211, 22, 233);\"></td><td title=\"Index: [0, 5]&#10;Color: (0, 0, 0)\" style=\"width: 20px; height: 20px;background-color: rgb(0, 0, 0);\"></td></tr><tr><td title=\"Index: [1, 0]&#10;Color: (0, 0, 0)\" style=\"width: 20px; height: 20px;background-color: rgb(0, 0, 0);\"></td><td title=\"Index: [1, 1]&#10;Color: (211, 22, 233)\" style=\"width: 20px; height: 20px;background-color: rgb(211, 22, 233);\"></td><td title=\"Index: [1, 2]&#10;Color: (211, 22, 233)\" style=\"width: 20px; height: 20px;background-color: rgb(211, 22, 233);\"></td><td title=\"Index: [1, 3]&#10;Color: (211, 22, 233)\" style=\"width: 20px; height: 20px;background-color: rgb(211, 22, 233);\"></td><td title=\"Index: [1, 4]&#10;Color: (211, 22, 233)\" style=\"width: 20px; height: 20px;background-color: rgb(211, 22, 233);\"></td><td title=\"Index: [1, 5]&#10;Color: (0, 0, 0)\" style=\"width: 20px; height: 20px;background-color: rgb(0, 0, 0);\"></td></tr><tr><td title=\"Index: [2, 0]&#10;Color: (0, 0, 0)\" style=\"width: 20px; height: 20px;background-color: rgb(0, 0, 0);\"></td><td title=\"Index: [2, 1]&#10;Color: (0, 0, 0)\" style=\"width: 20px; height: 20px;background-color: rgb(0, 0, 0);\"></td><td title=\"Index: [2, 2]&#10;Color: (0, 0, 0)\" style=\"width: 20px; height: 20px;background-color: rgb(0, 0, 0);\"></td><td title=\"Index: [2, 3]&#10;Color: (0, 0, 0)\" style=\"width: 20px; height: 20px;background-color: rgb(0, 0, 0);\"></td><td title=\"Index: [2, 4]&#10;Color: (0, 0, 0)\" style=\"width: 20px; height: 20px;background-color: rgb(0, 0, 0);\"></td><td title=\"Index: [2, 5]&#10;Color: (0, 0, 0)\" style=\"width: 20px; height: 20px;background-color: rgb(0, 0, 0);\"></td></tr><tr><td title=\"Index: [3, 0]&#10;Color: (0, 0, 0)\" style=\"width: 20px; height: 20px;background-color: rgb(0, 0, 0);\"></td><td title=\"Index: [3, 1]&#10;Color: (0, 0, 0)\" style=\"width: 20px; height: 20px;background-color: rgb(0, 0, 0);\"></td><td title=\"Index: [3, 2]&#10;Color: (0, 0, 0)\" style=\"width: 20px; height: 20px;background-color: rgb(0, 0, 0);\"></td><td title=\"Index: [3, 3]&#10;Color: (0, 0, 0)\" style=\"width: 20px; height: 20px;background-color: rgb(0, 0, 0);\"></td><td title=\"Index: [3, 4]&#10;Color: (0, 0, 0)\" style=\"width: 20px; height: 20px;background-color: rgb(0, 0, 0);\"></td><td title=\"Index: [3, 5]&#10;Color: (0, 0, 0)\" style=\"width: 20px; height: 20px;background-color: rgb(0, 0, 0);\"></td></tr></tbody></table>"
      ],
      "text/plain": [
       "<IPython.core.display.HTML object>"
      ]
     },
     "metadata": {},
     "output_type": "display_data"
    }
   ],
   "source": [
    "grid = BlockGrid(6, 4, fill=(0, 0, 0))\n",
    "grid[0:2, 1:-1] =(211,22,233)\n",
    "grid.show()"
   ]
  },
  {
   "cell_type": "markdown",
   "metadata": {},
   "source": [
    "# grid[ 0:, 2: ] means all the rows, and all the columns starting at column 2"
   ]
  },
  {
   "cell_type": "code",
   "execution_count": 37,
   "metadata": {
    "collapsed": false
   },
   "outputs": [
    {
     "data": {
      "text/html": [
       "<style type=\"text/css\">table.blockgrid {border: none;} .blockgrid tr {border: none;} .blockgrid td {padding: 0px;} #blocks12aecba8-1a33-413b-8576-5bda3c28b6c7 td {border: 1px solid white;}</style><table id=\"blocks12aecba8-1a33-413b-8576-5bda3c28b6c7\" class=\"blockgrid\"><tbody><tr><td title=\"Index: [0, 0]&#10;Color: (0, 0, 0)\" style=\"width: 20px; height: 20px;background-color: rgb(0, 0, 0);\"></td><td title=\"Index: [0, 1]&#10;Color: (0, 0, 0)\" style=\"width: 20px; height: 20px;background-color: rgb(0, 0, 0);\"></td><td title=\"Index: [0, 2]&#10;Color: (255, 255, 0)\" style=\"width: 20px; height: 20px;background-color: rgb(255, 255, 0);\"></td><td title=\"Index: [0, 3]&#10;Color: (255, 255, 0)\" style=\"width: 20px; height: 20px;background-color: rgb(255, 255, 0);\"></td><td title=\"Index: [0, 4]&#10;Color: (255, 255, 0)\" style=\"width: 20px; height: 20px;background-color: rgb(255, 255, 0);\"></td><td title=\"Index: [0, 5]&#10;Color: (255, 255, 0)\" style=\"width: 20px; height: 20px;background-color: rgb(255, 255, 0);\"></td></tr><tr><td title=\"Index: [1, 0]&#10;Color: (0, 0, 0)\" style=\"width: 20px; height: 20px;background-color: rgb(0, 0, 0);\"></td><td title=\"Index: [1, 1]&#10;Color: (0, 0, 0)\" style=\"width: 20px; height: 20px;background-color: rgb(0, 0, 0);\"></td><td title=\"Index: [1, 2]&#10;Color: (255, 255, 0)\" style=\"width: 20px; height: 20px;background-color: rgb(255, 255, 0);\"></td><td title=\"Index: [1, 3]&#10;Color: (255, 255, 0)\" style=\"width: 20px; height: 20px;background-color: rgb(255, 255, 0);\"></td><td title=\"Index: [1, 4]&#10;Color: (255, 255, 0)\" style=\"width: 20px; height: 20px;background-color: rgb(255, 255, 0);\"></td><td title=\"Index: [1, 5]&#10;Color: (255, 255, 0)\" style=\"width: 20px; height: 20px;background-color: rgb(255, 255, 0);\"></td></tr><tr><td title=\"Index: [2, 0]&#10;Color: (0, 0, 0)\" style=\"width: 20px; height: 20px;background-color: rgb(0, 0, 0);\"></td><td title=\"Index: [2, 1]&#10;Color: (0, 0, 0)\" style=\"width: 20px; height: 20px;background-color: rgb(0, 0, 0);\"></td><td title=\"Index: [2, 2]&#10;Color: (255, 255, 0)\" style=\"width: 20px; height: 20px;background-color: rgb(255, 255, 0);\"></td><td title=\"Index: [2, 3]&#10;Color: (255, 255, 0)\" style=\"width: 20px; height: 20px;background-color: rgb(255, 255, 0);\"></td><td title=\"Index: [2, 4]&#10;Color: (255, 255, 0)\" style=\"width: 20px; height: 20px;background-color: rgb(255, 255, 0);\"></td><td title=\"Index: [2, 5]&#10;Color: (255, 255, 0)\" style=\"width: 20px; height: 20px;background-color: rgb(255, 255, 0);\"></td></tr><tr><td title=\"Index: [3, 0]&#10;Color: (0, 0, 0)\" style=\"width: 20px; height: 20px;background-color: rgb(0, 0, 0);\"></td><td title=\"Index: [3, 1]&#10;Color: (0, 0, 0)\" style=\"width: 20px; height: 20px;background-color: rgb(0, 0, 0);\"></td><td title=\"Index: [3, 2]&#10;Color: (255, 255, 0)\" style=\"width: 20px; height: 20px;background-color: rgb(255, 255, 0);\"></td><td title=\"Index: [3, 3]&#10;Color: (255, 255, 0)\" style=\"width: 20px; height: 20px;background-color: rgb(255, 255, 0);\"></td><td title=\"Index: [3, 4]&#10;Color: (255, 255, 0)\" style=\"width: 20px; height: 20px;background-color: rgb(255, 255, 0);\"></td><td title=\"Index: [3, 5]&#10;Color: (255, 255, 0)\" style=\"width: 20px; height: 20px;background-color: rgb(255, 255, 0);\"></td></tr></tbody></table>"
      ],
      "text/plain": [
       "<IPython.core.display.HTML object>"
      ]
     },
     "metadata": {},
     "output_type": "display_data"
    }
   ],
   "source": [
    "grid = BlockGrid(6, 4, fill=(0, 0, 0))\n",
    "grid[0:, 2:] = (255,255,0)\n",
    "grid.show()"
   ]
  },
  {
   "cell_type": "markdown",
   "metadata": {},
   "source": [
    "# Copying Blocks"
   ]
  },
  {
   "cell_type": "code",
   "execution_count": 41,
   "metadata": {
    "collapsed": false
   },
   "outputs": [
    {
     "data": {
      "text/html": [
       "<style type=\"text/css\">table.blockgrid {border: none;} .blockgrid tr {border: none;} .blockgrid td {padding: 0px;} #blockscf6bb4a3-860b-4800-819d-b96e634de204 td {border: 1px solid white;}</style><table id=\"blockscf6bb4a3-860b-4800-819d-b96e634de204\" class=\"blockgrid\"><tbody><tr><td title=\"Index: [0, 0]&#10;Color: (0, 0, 0)\" style=\"width: 35px; height: 35px;background-color: rgb(0, 0, 0);\"></td><td title=\"Index: [0, 1]&#10;Color: (0, 0, 0)\" style=\"width: 35px; height: 35px;background-color: rgb(0, 0, 0);\"></td><td title=\"Index: [0, 2]&#10;Color: (0, 0, 0)\" style=\"width: 35px; height: 35px;background-color: rgb(0, 0, 0);\"></td><td title=\"Index: [0, 3]&#10;Color: (0, 0, 0)\" style=\"width: 35px; height: 35px;background-color: rgb(0, 0, 0);\"></td><td title=\"Index: [0, 4]&#10;Color: (211, 111, 111)\" style=\"width: 35px; height: 35px;background-color: rgb(211, 111, 111);\"></td><td title=\"Index: [0, 5]&#10;Color: (255, 255, 0)\" style=\"width: 35px; height: 35px;background-color: rgb(255, 255, 0);\"></td></tr><tr><td title=\"Index: [1, 0]&#10;Color: (0, 0, 0)\" style=\"width: 35px; height: 35px;background-color: rgb(0, 0, 0);\"></td><td title=\"Index: [1, 1]&#10;Color: (0, 0, 0)\" style=\"width: 35px; height: 35px;background-color: rgb(0, 0, 0);\"></td><td title=\"Index: [1, 2]&#10;Color: (0, 0, 0)\" style=\"width: 35px; height: 35px;background-color: rgb(0, 0, 0);\"></td><td title=\"Index: [1, 3]&#10;Color: (0, 0, 0)\" style=\"width: 35px; height: 35px;background-color: rgb(0, 0, 0);\"></td><td title=\"Index: [1, 4]&#10;Color: (211, 111, 111)\" style=\"width: 35px; height: 35px;background-color: rgb(211, 111, 111);\"></td><td title=\"Index: [1, 5]&#10;Color: (211, 111, 111)\" style=\"width: 35px; height: 35px;background-color: rgb(211, 111, 111);\"></td></tr><tr><td title=\"Index: [2, 0]&#10;Color: (0, 0, 0)\" style=\"width: 35px; height: 35px;background-color: rgb(0, 0, 0);\"></td><td title=\"Index: [2, 1]&#10;Color: (0, 0, 0)\" style=\"width: 35px; height: 35px;background-color: rgb(0, 0, 0);\"></td><td title=\"Index: [2, 2]&#10;Color: (0, 0, 0)\" style=\"width: 35px; height: 35px;background-color: rgb(0, 0, 0);\"></td><td title=\"Index: [2, 3]&#10;Color: (0, 0, 0)\" style=\"width: 35px; height: 35px;background-color: rgb(0, 0, 0);\"></td><td title=\"Index: [2, 4]&#10;Color: (0, 0, 0)\" style=\"width: 35px; height: 35px;background-color: rgb(0, 0, 0);\"></td><td title=\"Index: [2, 5]&#10;Color: (0, 0, 0)\" style=\"width: 35px; height: 35px;background-color: rgb(0, 0, 0);\"></td></tr><tr><td title=\"Index: [3, 0]&#10;Color: (0, 0, 0)\" style=\"width: 35px; height: 35px;background-color: rgb(0, 0, 0);\"></td><td title=\"Index: [3, 1]&#10;Color: (0, 0, 0)\" style=\"width: 35px; height: 35px;background-color: rgb(0, 0, 0);\"></td><td title=\"Index: [3, 2]&#10;Color: (0, 0, 0)\" style=\"width: 35px; height: 35px;background-color: rgb(0, 0, 0);\"></td><td title=\"Index: [3, 3]&#10;Color: (0, 0, 0)\" style=\"width: 35px; height: 35px;background-color: rgb(0, 0, 0);\"></td><td title=\"Index: [3, 4]&#10;Color: (0, 0, 0)\" style=\"width: 35px; height: 35px;background-color: rgb(0, 0, 0);\"></td><td title=\"Index: [3, 5]&#10;Color: (0, 0, 0)\" style=\"width: 35px; height: 35px;background-color: rgb(0, 0, 0);\"></td></tr><tr><td title=\"Index: [4, 0]&#10;Color: (0, 0, 0)\" style=\"width: 35px; height: 35px;background-color: rgb(0, 0, 0);\"></td><td title=\"Index: [4, 1]&#10;Color: (0, 0, 0)\" style=\"width: 35px; height: 35px;background-color: rgb(0, 0, 0);\"></td><td title=\"Index: [4, 2]&#10;Color: (0, 0, 0)\" style=\"width: 35px; height: 35px;background-color: rgb(0, 0, 0);\"></td><td title=\"Index: [4, 3]&#10;Color: (0, 0, 0)\" style=\"width: 35px; height: 35px;background-color: rgb(0, 0, 0);\"></td><td title=\"Index: [4, 4]&#10;Color: (0, 0, 0)\" style=\"width: 35px; height: 35px;background-color: rgb(0, 0, 0);\"></td><td title=\"Index: [4, 5]&#10;Color: (0, 0, 0)\" style=\"width: 35px; height: 35px;background-color: rgb(0, 0, 0);\"></td></tr><tr><td title=\"Index: [5, 0]&#10;Color: (0, 0, 0)\" style=\"width: 35px; height: 35px;background-color: rgb(0, 0, 0);\"></td><td title=\"Index: [5, 1]&#10;Color: (0, 0, 0)\" style=\"width: 35px; height: 35px;background-color: rgb(0, 0, 0);\"></td><td title=\"Index: [5, 2]&#10;Color: (0, 0, 0)\" style=\"width: 35px; height: 35px;background-color: rgb(0, 0, 0);\"></td><td title=\"Index: [5, 3]&#10;Color: (0, 0, 0)\" style=\"width: 35px; height: 35px;background-color: rgb(0, 0, 0);\"></td><td title=\"Index: [5, 4]&#10;Color: (0, 0, 0)\" style=\"width: 35px; height: 35px;background-color: rgb(0, 0, 0);\"></td><td title=\"Index: [5, 5]&#10;Color: (0, 0, 0)\" style=\"width: 35px; height: 35px;background-color: rgb(0, 0, 0);\"></td></tr></tbody></table>"
      ],
      "text/plain": [
       "<IPython.core.display.HTML object>"
      ]
     },
     "metadata": {},
     "output_type": "display_data"
    }
   ],
   "source": [
    "grid = BlockGrid(6, 6, fill=(0, 0, 0), block_size=35)\n",
    "grid[0:2,4:6] = (211,111,111)\n",
    "grid[0,5] = (255,255,0)\n",
    "grid.show()"
   ]
  },
  {
   "cell_type": "markdown",
   "metadata": {},
   "source": [
    "# Copy a sub-grid to another variable"
   ]
  },
  {
   "cell_type": "code",
   "execution_count": 42,
   "metadata": {
    "collapsed": false
   },
   "outputs": [
    {
     "data": {
      "text/html": [
       "<style type=\"text/css\">table.blockgrid {border: none;} .blockgrid tr {border: none;} .blockgrid td {padding: 0px;} #blocks2e9a195a-d1d3-4fc2-82c2-177c78fc0f41 td {border: 1px solid white;}</style><table id=\"blocks2e9a195a-d1d3-4fc2-82c2-177c78fc0f41\" class=\"blockgrid\"><tbody><tr><td title=\"Index: [0, 0]&#10;Color: (0, 0, 0)\" style=\"width: 35px; height: 35px;background-color: rgb(0, 0, 0);\"></td><td title=\"Index: [0, 1]&#10;Color: (211, 111, 111)\" style=\"width: 35px; height: 35px;background-color: rgb(211, 111, 111);\"></td><td title=\"Index: [0, 2]&#10;Color: (255, 255, 0)\" style=\"width: 35px; height: 35px;background-color: rgb(255, 255, 0);\"></td></tr><tr><td title=\"Index: [1, 0]&#10;Color: (0, 0, 0)\" style=\"width: 35px; height: 35px;background-color: rgb(0, 0, 0);\"></td><td title=\"Index: [1, 1]&#10;Color: (211, 111, 111)\" style=\"width: 35px; height: 35px;background-color: rgb(211, 111, 111);\"></td><td title=\"Index: [1, 2]&#10;Color: (211, 111, 111)\" style=\"width: 35px; height: 35px;background-color: rgb(211, 111, 111);\"></td></tr><tr><td title=\"Index: [2, 0]&#10;Color: (0, 0, 0)\" style=\"width: 35px; height: 35px;background-color: rgb(0, 0, 0);\"></td><td title=\"Index: [2, 1]&#10;Color: (0, 0, 0)\" style=\"width: 35px; height: 35px;background-color: rgb(0, 0, 0);\"></td><td title=\"Index: [2, 2]&#10;Color: (0, 0, 0)\" style=\"width: 35px; height: 35px;background-color: rgb(0, 0, 0);\"></td></tr></tbody></table>"
      ],
      "text/plain": [
       "<IPython.core.display.HTML object>"
      ]
     },
     "metadata": {},
     "output_type": "display_data"
    }
   ],
   "source": [
    "c = grid[0:3,3:6].copy()\n",
    "\n",
    "c.show()"
   ]
  },
  {
   "cell_type": "markdown",
   "metadata": {},
   "source": [
    "# Copy with simple assignment\n",
    "# Either from the copied sub-grid or the grid itself"
   ]
  },
  {
   "cell_type": "code",
   "execution_count": 43,
   "metadata": {
    "collapsed": false
   },
   "outputs": [
    {
     "data": {
      "text/html": [
       "<style type=\"text/css\">table.blockgrid {border: none;} .blockgrid tr {border: none;} .blockgrid td {padding: 0px;} #blocksb12c53f2-9f85-4ef7-a75d-019812aaba15 td {border: 1px solid white;}</style><table id=\"blocksb12c53f2-9f85-4ef7-a75d-019812aaba15\" class=\"blockgrid\"><tbody><tr><td title=\"Index: [0, 0]&#10;Color: (0, 0, 0)\" style=\"width: 35px; height: 35px;background-color: rgb(0, 0, 0);\"></td><td title=\"Index: [0, 1]&#10;Color: (0, 0, 0)\" style=\"width: 35px; height: 35px;background-color: rgb(0, 0, 0);\"></td><td title=\"Index: [0, 2]&#10;Color: (0, 0, 0)\" style=\"width: 35px; height: 35px;background-color: rgb(0, 0, 0);\"></td><td title=\"Index: [0, 3]&#10;Color: (0, 0, 0)\" style=\"width: 35px; height: 35px;background-color: rgb(0, 0, 0);\"></td><td title=\"Index: [0, 4]&#10;Color: (211, 111, 111)\" style=\"width: 35px; height: 35px;background-color: rgb(211, 111, 111);\"></td><td title=\"Index: [0, 5]&#10;Color: (255, 255, 0)\" style=\"width: 35px; height: 35px;background-color: rgb(255, 255, 0);\"></td></tr><tr><td title=\"Index: [1, 0]&#10;Color: (0, 0, 0)\" style=\"width: 35px; height: 35px;background-color: rgb(0, 0, 0);\"></td><td title=\"Index: [1, 1]&#10;Color: (0, 0, 0)\" style=\"width: 35px; height: 35px;background-color: rgb(0, 0, 0);\"></td><td title=\"Index: [1, 2]&#10;Color: (0, 0, 0)\" style=\"width: 35px; height: 35px;background-color: rgb(0, 0, 0);\"></td><td title=\"Index: [1, 3]&#10;Color: (0, 0, 0)\" style=\"width: 35px; height: 35px;background-color: rgb(0, 0, 0);\"></td><td title=\"Index: [1, 4]&#10;Color: (211, 111, 111)\" style=\"width: 35px; height: 35px;background-color: rgb(211, 111, 111);\"></td><td title=\"Index: [1, 5]&#10;Color: (211, 111, 111)\" style=\"width: 35px; height: 35px;background-color: rgb(211, 111, 111);\"></td></tr><tr><td title=\"Index: [2, 0]&#10;Color: (0, 0, 0)\" style=\"width: 35px; height: 35px;background-color: rgb(0, 0, 0);\"></td><td title=\"Index: [2, 1]&#10;Color: (0, 0, 0)\" style=\"width: 35px; height: 35px;background-color: rgb(0, 0, 0);\"></td><td title=\"Index: [2, 2]&#10;Color: (0, 0, 0)\" style=\"width: 35px; height: 35px;background-color: rgb(0, 0, 0);\"></td><td title=\"Index: [2, 3]&#10;Color: (0, 0, 0)\" style=\"width: 35px; height: 35px;background-color: rgb(0, 0, 0);\"></td><td title=\"Index: [2, 4]&#10;Color: (0, 0, 0)\" style=\"width: 35px; height: 35px;background-color: rgb(0, 0, 0);\"></td><td title=\"Index: [2, 5]&#10;Color: (0, 0, 0)\" style=\"width: 35px; height: 35px;background-color: rgb(0, 0, 0);\"></td></tr><tr><td title=\"Index: [3, 0]&#10;Color: (0, 0, 0)\" style=\"width: 35px; height: 35px;background-color: rgb(0, 0, 0);\"></td><td title=\"Index: [3, 1]&#10;Color: (211, 111, 111)\" style=\"width: 35px; height: 35px;background-color: rgb(211, 111, 111);\"></td><td title=\"Index: [3, 2]&#10;Color: (255, 255, 0)\" style=\"width: 35px; height: 35px;background-color: rgb(255, 255, 0);\"></td><td title=\"Index: [3, 3]&#10;Color: (0, 0, 0)\" style=\"width: 35px; height: 35px;background-color: rgb(0, 0, 0);\"></td><td title=\"Index: [3, 4]&#10;Color: (0, 0, 0)\" style=\"width: 35px; height: 35px;background-color: rgb(0, 0, 0);\"></td><td title=\"Index: [3, 5]&#10;Color: (0, 0, 0)\" style=\"width: 35px; height: 35px;background-color: rgb(0, 0, 0);\"></td></tr><tr><td title=\"Index: [4, 0]&#10;Color: (0, 0, 0)\" style=\"width: 35px; height: 35px;background-color: rgb(0, 0, 0);\"></td><td title=\"Index: [4, 1]&#10;Color: (211, 111, 111)\" style=\"width: 35px; height: 35px;background-color: rgb(211, 111, 111);\"></td><td title=\"Index: [4, 2]&#10;Color: (211, 111, 111)\" style=\"width: 35px; height: 35px;background-color: rgb(211, 111, 111);\"></td><td title=\"Index: [4, 3]&#10;Color: (0, 0, 0)\" style=\"width: 35px; height: 35px;background-color: rgb(0, 0, 0);\"></td><td title=\"Index: [4, 4]&#10;Color: (0, 0, 0)\" style=\"width: 35px; height: 35px;background-color: rgb(0, 0, 0);\"></td><td title=\"Index: [4, 5]&#10;Color: (0, 0, 0)\" style=\"width: 35px; height: 35px;background-color: rgb(0, 0, 0);\"></td></tr><tr><td title=\"Index: [5, 0]&#10;Color: (0, 0, 0)\" style=\"width: 35px; height: 35px;background-color: rgb(0, 0, 0);\"></td><td title=\"Index: [5, 1]&#10;Color: (0, 0, 0)\" style=\"width: 35px; height: 35px;background-color: rgb(0, 0, 0);\"></td><td title=\"Index: [5, 2]&#10;Color: (0, 0, 0)\" style=\"width: 35px; height: 35px;background-color: rgb(0, 0, 0);\"></td><td title=\"Index: [5, 3]&#10;Color: (0, 0, 0)\" style=\"width: 35px; height: 35px;background-color: rgb(0, 0, 0);\"></td><td title=\"Index: [5, 4]&#10;Color: (0, 0, 0)\" style=\"width: 35px; height: 35px;background-color: rgb(0, 0, 0);\"></td><td title=\"Index: [5, 5]&#10;Color: (255, 255, 0)\" style=\"width: 35px; height: 35px;background-color: rgb(255, 255, 0);\"></td></tr></tbody></table>"
      ],
      "text/plain": [
       "<IPython.core.display.HTML object>"
      ]
     },
     "metadata": {},
     "output_type": "display_data"
    }
   ],
   "source": [
    "grid[3:6,0:3] = c\n",
    "grid[5,5] = grid[0,5]\n",
    "grid.show()"
   ]
  },
  {
   "cell_type": "markdown",
   "metadata": {},
   "source": [
    "# Animation\n",
    "\n",
    "# The secret is the clear_output() command"
   ]
  },
  {
   "cell_type": "code",
   "execution_count": 45,
   "metadata": {
    "collapsed": false
   },
   "outputs": [
    {
     "data": {
      "text/html": [
       "<style type=\"text/css\">table.blockgrid {border: none;} .blockgrid tr {border: none;} .blockgrid td {padding: 0px;} #blocksc0a1c0c7-2167-43ba-9982-518aedee7e06 td {border: 1px solid white;}</style><table id=\"blocksc0a1c0c7-2167-43ba-9982-518aedee7e06\" class=\"blockgrid\"><tbody><tr><td title=\"Index: [0, 0]&#10;Color: (0, 0, 0)\" style=\"width: 30px; height: 30px;background-color: rgb(0, 0, 0);\"></td><td title=\"Index: [0, 1]&#10;Color: (0, 0, 0)\" style=\"width: 30px; height: 30px;background-color: rgb(0, 0, 0);\"></td><td title=\"Index: [0, 2]&#10;Color: (0, 0, 0)\" style=\"width: 30px; height: 30px;background-color: rgb(0, 0, 0);\"></td><td title=\"Index: [0, 3]&#10;Color: (0, 0, 0)\" style=\"width: 30px; height: 30px;background-color: rgb(0, 0, 0);\"></td></tr><tr><td title=\"Index: [1, 0]&#10;Color: (0, 0, 0)\" style=\"width: 30px; height: 30px;background-color: rgb(0, 0, 0);\"></td><td title=\"Index: [1, 1]&#10;Color: (0, 0, 0)\" style=\"width: 30px; height: 30px;background-color: rgb(0, 0, 0);\"></td><td title=\"Index: [1, 2]&#10;Color: (0, 0, 0)\" style=\"width: 30px; height: 30px;background-color: rgb(0, 0, 0);\"></td><td title=\"Index: [1, 3]&#10;Color: (0, 0, 0)\" style=\"width: 30px; height: 30px;background-color: rgb(0, 0, 0);\"></td></tr><tr><td title=\"Index: [2, 0]&#10;Color: (0, 0, 0)\" style=\"width: 30px; height: 30px;background-color: rgb(0, 0, 0);\"></td><td title=\"Index: [2, 1]&#10;Color: (0, 0, 0)\" style=\"width: 30px; height: 30px;background-color: rgb(0, 0, 0);\"></td><td title=\"Index: [2, 2]&#10;Color: (0, 0, 0)\" style=\"width: 30px; height: 30px;background-color: rgb(0, 0, 0);\"></td><td title=\"Index: [2, 3]&#10;Color: (0, 255, 0)\" style=\"width: 30px; height: 30px;background-color: rgb(0, 255, 0);\"></td></tr></tbody></table>"
      ],
      "text/plain": [
       "<IPython.core.display.HTML object>"
      ]
     },
     "metadata": {},
     "output_type": "display_data"
    }
   ],
   "source": [
    "import time\n",
    "from IPython.display import clear_output\n",
    "grid = BlockGrid(4, 3, block_size= 30)\n",
    "\n",
    "previous_block = None\n",
    "\n",
    "for block in grid:\n",
    "    clear_output()\n",
    "    block.green = 255\n",
    "    \n",
    "    if previous_block:\n",
    "        previous_block.green = 0\n",
    "    \n",
    "    grid.show()\n",
    "    \n",
    "    previous_block = block\n",
    "    \n",
    "    time.sleep(0.5)"
   ]
  },
  {
   "cell_type": "markdown",
   "metadata": {},
   "source": [
    "# For more information:\n",
    "#\n",
    "#  https://github.com/vtuite/Ipythonblocks_tricks\n",
    "#\n",
    "# http://www.ipythonblocks.org/\n",
    "# \n",
    "# https://github.com/jiffyclub/boot-camp-template/blob/master/python/ipythonblocks/instructor_notes.md\n",
    "\n"
   ]
  },
  {
   "cell_type": "code",
   "execution_count": null,
   "metadata": {
    "collapsed": true
   },
   "outputs": [],
   "source": []
  },
  {
   "cell_type": "code",
   "execution_count": null,
   "metadata": {
    "collapsed": true
   },
   "outputs": [],
   "source": []
  }
 ],
 "metadata": {
  "anaconda-cloud": {},
  "kernelspec": {
   "display_name": "Python [conda env:myPy3PyQt4env]",
   "language": "python",
   "name": "conda-env-myPy3PyQt4env-py"
  },
  "language_info": {
   "codemirror_mode": {
    "name": "ipython",
    "version": 3
   },
   "file_extension": ".py",
   "mimetype": "text/x-python",
   "name": "python",
   "nbconvert_exporter": "python",
   "pygments_lexer": "ipython3",
   "version": "3.5.3"
  }
 },
 "nbformat": 4,
 "nbformat_minor": 1
}
